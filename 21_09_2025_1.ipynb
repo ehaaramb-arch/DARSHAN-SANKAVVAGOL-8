{
  "nbformat": 4,
  "nbformat_minor": 0,
  "metadata": {
    "colab": {
      "provenance": []
    },
    "kernelspec": {
      "name": "python3",
      "display_name": "Python 3"
    },
    "language_info": {
      "name": "python"
    }
  },
  "cells": [
    {
      "cell_type": "code",
      "execution_count": 1,
      "metadata": {
        "colab": {
          "base_uri": "https://localhost:8080/"
        },
        "id": "LOeztoZWLr_M",
        "outputId": "b6039e2d-216c-4eb4-9115-7caef6771e7f"
      },
      "outputs": [
        {
          "output_type": "stream",
          "name": "stdout",
          "text": [
            "Requirement already satisfied: numpy in /usr/local/lib/python3.12/dist-packages (2.0.2)\n"
          ]
        }
      ],
      "source": [
        "!pip install numpy"
      ]
    },
    {
      "cell_type": "code",
      "source": [
        "import numpy as np\n",
        "arr = np.array([1,2,3,4,5])\n",
        "print(\"Numpy Array: \",arr)"
      ],
      "metadata": {
        "colab": {
          "base_uri": "https://localhost:8080/"
        },
        "id": "QHSgRxUrMKm7",
        "outputId": "5db10e6a-e60a-4ab5-a722-379c4ca3e023"
      },
      "execution_count": 3,
      "outputs": [
        {
          "output_type": "stream",
          "name": "stdout",
          "text": [
            "Numpy Array:  [1 2 3 4 5]\n"
          ]
        }
      ]
    },
    {
      "cell_type": "code",
      "source": [
        "import numpy as np\n",
        "zeros = np.zeros(5)\n",
        "ones = np.ones(5)\n",
        "print(\"Zeros:\",zeros)\n",
        "print(\"Ones:\",ones)"
      ],
      "metadata": {
        "colab": {
          "base_uri": "https://localhost:8080/"
        },
        "id": "bvyNWEoyMv5J",
        "outputId": "69505278-e5ed-40d8-bb85-bb3acc85b012"
      },
      "execution_count": 5,
      "outputs": [
        {
          "output_type": "stream",
          "name": "stdout",
          "text": [
            "Zeros: [0. 0. 0. 0. 0.]\n",
            "Ones: [1. 1. 1. 1. 1.]\n"
          ]
        }
      ]
    },
    {
      "cell_type": "code",
      "source": [
        "import numpy as np\n",
        "a = np.array([10,20,30])\n",
        "b = np.array([1,2,3])\n",
        "print(\"Addition:\",a+b)\n",
        "print(\"Multiplication:\",a*b)\n",
        "print(\"Subtraction:\",a-b)\n",
        "print(\"Division:\",a/b)\n",
        ""
      ],
      "metadata": {
        "colab": {
          "base_uri": "https://localhost:8080/"
        },
        "id": "YMLxqQ_VOMk4",
        "outputId": "97b513f6-ad59-420f-8e82-273d9217a04f"
      },
      "execution_count": 20,
      "outputs": [
        {
          "output_type": "stream",
          "name": "stdout",
          "text": [
            "Addition: [11 22 33]\n",
            "Multiplication: [10 40 90]\n",
            "Subtraction: [ 9 18 27]\n",
            "Division: [10. 10. 10.]\n"
          ]
        }
      ]
    },
    {
      "cell_type": "code",
      "source": [
        "import numpy as np\n",
        "arr = np.array ([1,4,9,16])\n",
        "print(\"Square Root;\",np.sqrt(arr))\n",
        "print(\"Mean:\",np.mean(arr))"
      ],
      "metadata": {
        "colab": {
          "base_uri": "https://localhost:8080/"
        },
        "id": "cZ8QHkk4P97g",
        "outputId": "0cd2f39a-7647-4483-f265-c6fb543d6817"
      },
      "execution_count": 13,
      "outputs": [
        {
          "output_type": "stream",
          "name": "stdout",
          "text": [
            "Square Root; [1. 2. 3. 4.]\n",
            "Mean: 7.5\n"
          ]
        }
      ]
    },
    {
      "cell_type": "code",
      "source": [
        "import numpy as np\n",
        "arr = np.array([2,4,6,8,10,12,16])\n",
        "print(\"Mean:\",np.mean(arr))\n",
        "print(\"Median:\",np.median(arr))"
      ],
      "metadata": {
        "colab": {
          "base_uri": "https://localhost:8080/"
        },
        "id": "akQ5ESuIQiV_",
        "outputId": "18eb4ed5-7f75-4e25-f930-293e194080f1"
      },
      "execution_count": 36,
      "outputs": [
        {
          "output_type": "stream",
          "name": "stdout",
          "text": [
            "Mean: 8.285714285714286\n",
            "Median: 8.0\n"
          ]
        }
      ]
    },
    {
      "cell_type": "code",
      "source": [
        "import numpy as np\n",
        "from scipy import stats\n",
        "\n",
        "arr = np.array([2, 4, 6, 8, 10, 12, 16, 2, 4, 2])\n",
        "mode_result = stats.mode(arr)\n",
        "\n",
        "print(\"Array:\", arr)\n",
        "print(\"Mode:\", mode_result.mode)\n",
        "print(\"Count:\", mode_result.count)"
      ],
      "metadata": {
        "colab": {
          "base_uri": "https://localhost:8080/"
        },
        "id": "kSJ_KscQWadu",
        "outputId": "13b56055-7170-4706-f40e-04109def7579"
      },
      "execution_count": 35,
      "outputs": [
        {
          "output_type": "stream",
          "name": "stdout",
          "text": [
            "Array: [ 2  4  6  8 10 12 16  2  4  2]\n",
            "Mode: 2\n",
            "Count: 3\n"
          ]
        }
      ]
    },
    {
      "cell_type": "code",
      "source": [
        "import numpy as np\n",
        "matrix = np.array([[1,2],[3,4]])\n",
        "print(\"Matrix:\\n\",matrix)\n",
        "print(\"Transpose:\\n\",matrix.T)"
      ],
      "metadata": {
        "colab": {
          "base_uri": "https://localhost:8080/"
        },
        "id": "-37UhNDeTUCX",
        "outputId": "59b3459b-fcd8-435e-8953-b2956c9d33e3"
      },
      "execution_count": 29,
      "outputs": [
        {
          "output_type": "stream",
          "name": "stdout",
          "text": [
            "Matrix:\n",
            " [[1 2]\n",
            " [3 4]]\n",
            "Transpose:\n",
            " [[1 3]\n",
            " [2 4]]\n"
          ]
        }
      ]
    }
  ]
}