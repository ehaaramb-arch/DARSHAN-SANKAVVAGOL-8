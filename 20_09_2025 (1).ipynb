{
  "nbformat": 4,
  "nbformat_minor": 0,
  "metadata": {
    "colab": {
      "provenance": []
    },
    "kernelspec": {
      "name": "python3",
      "display_name": "Python 3"
    },
    "language_info": {
      "name": "python"
    }
  },
  "cells": [
    {
      "cell_type": "code",
      "source": [
        "class Bird:\n",
        "  def fly(self):\n",
        "    print(\"some birds can fly\")\n",
        ""
      ],
      "metadata": {
        "id": "wOEEQBrwCFsL"
      },
      "execution_count": 1,
      "outputs": []
    },
    {
      "cell_type": "code",
      "source": [
        "class BCA_1St_Semester :\n",
        "    def student(self,a,b=0,c=0,d=0):\n",
        "      return a+b+c+d\n",
        "BCA = BCA_1St_Semester()\n",
        "print(BCA.student(5))\n",
        "print(BCA.student(10,7,8))\n",
        "print(BCA.student(-10,4,9,-5))\n",
        "print(BCA.student(99,0,4,-12))\n",
        "\n"
      ],
      "metadata": {
        "colab": {
          "base_uri": "https://localhost:8080/"
        },
        "id": "RkXtwJgjGYoH",
        "outputId": "d9ce0e82-6190-43c1-c05d-1deee8884c81"
      },
      "execution_count": 19,
      "outputs": [
        {
          "output_type": "stream",
          "name": "stdout",
          "text": [
            "5\n",
            "25\n",
            "-2\n",
            "91\n",
            "-200\n"
          ]
        }
      ]
    },
    {
      "cell_type": "code",
      "source": [
        "class Animal:\n",
        "    def sound(self):\n",
        "      print(\"Animal makes a sound\")\n",
        "\n",
        "class Dog(Animal):\n",
        "    def sound(self):\n",
        "       print(\"Bow BOW Bow\")\n",
        "\n",
        "\n",
        "class Cat  (Animal):\n",
        "    def sound(self):\n",
        "       print(\"Meow MeOW Meow\")\n",
        "\n",
        "class Snake (Animal) :\n",
        "   def sound(self):\n",
        "    print(\"Buussssssssss\")\n",
        "\n",
        "class Cow (Animal) :\n",
        "   def sound(self):\n",
        "    print('Ammbbbbbbbbaaaa')\n",
        "\n",
        "obj1 = Animal()\n",
        "obj2 = Dog()\n",
        "obj3 = Cat()\n",
        "obj4 = Snake()\n",
        "obj5 = Cow()\n",
        "\n",
        "obj1.sound()\n",
        "obj2.sound()\n",
        "obj3.sound()\n",
        "obj4.sound()\n",
        "obj5.sound()"
      ],
      "metadata": {
        "colab": {
          "base_uri": "https://localhost:8080/"
        },
        "id": "t2kl_X30JwrM",
        "outputId": "363655d4-03ae-4175-9502-a8e96557389c"
      },
      "execution_count": 22,
      "outputs": [
        {
          "output_type": "stream",
          "name": "stdout",
          "text": [
            "Animal makes a sound\n",
            "Bow BOW Bow\n",
            "Meow MeOW Meow\n",
            "Buussssssssss\n",
            "Ammbbbbbbbbaaaa\n"
          ]
        }
      ]
    },
    {
      "cell_type": "code",
      "source": [
        "class Book :\n",
        "   def __init__(self,page):\n",
        "      self.page = page\n",
        "   def __add__(self,other):\n",
        "      return self.page + other.page\n",
        "obj1= Book(200)\n",
        "obj2 = Book(300)\n",
        "print(\"Total pages is\",obj1 + obj2)"
      ],
      "metadata": {
        "colab": {
          "base_uri": "https://localhost:8080/"
        },
        "id": "3UEx4n2HPCOX",
        "outputId": "b01a1d0c-e557-408a-ff9f-009886453c91"
      },
      "execution_count": 30,
      "outputs": [
        {
          "output_type": "stream",
          "name": "stdout",
          "text": [
            "Total pages is 500\n"
          ]
        }
      ]
    },
    {
      "cell_type": "code",
      "source": [
        "from abc import ABC, abstractmethod\n",
        "class vehicle(ABC):\n",
        "  def sound(self):\n",
        "    pass\n",
        "class Car (vehicle):\n",
        "  def sound(self):\n",
        "    print(\"I am driving a Car\")\n",
        "\n",
        "\n",
        "obj = Car()\n",
        "obj.sound()\n"
      ],
      "metadata": {
        "colab": {
          "base_uri": "https://localhost:8080/"
        },
        "id": "Xv5QROAZQqIe",
        "outputId": "b3d76405-292f-4289-a506-65128ecc65c2"
      },
      "execution_count": 36,
      "outputs": [
        {
          "output_type": "stream",
          "name": "stdout",
          "text": [
            "I am driving a Car\n"
          ]
        }
      ]
    },
    {
      "cell_type": "code",
      "source": [
        "from abc import ABC,abstractmethod\n",
        "class Game (ABC):\n",
        "  def Acting (self):\n",
        "    print(\"I am doing work\")\n",
        "\n",
        "  def Free_fire(self):\n",
        "    print(\"winner winner chiken dinner  \")\n",
        "\n",
        "  def BGMI(self):\n",
        "    pass\n",
        "  def Cricket(self):\n",
        "    print(\"I am win the macth\")\n",
        "\n",
        "class Temple_Run (Game):\n",
        "\n",
        "  def BGMI(self):\n",
        "      print(\"I got Royle pass Diamond\")\n",
        "\n",
        "  def Chees(self):\n",
        "      print(\"I am a district player\")\n",
        "\n",
        "obj = Game()\n",
        "obj.Acting()\n",
        "obj.Free_fire()\n",
        "obj.BGMI()\n",
        "obj.Cricket()\n",
        "obj =Temple_Run()\n",
        "obj.Acting()\n",
        "obj.Free_fire()\n",
        "obj.Chees()\n",
        "obj.BGMI()\n",
        "\n"
      ],
      "metadata": {
        "colab": {
          "base_uri": "https://localhost:8080/"
        },
        "id": "Sbg8bdaNUy9v",
        "outputId": "8e70728b-152e-4551-ce76-ee29efbc287a"
      },
      "execution_count": 72,
      "outputs": [
        {
          "output_type": "stream",
          "name": "stdout",
          "text": [
            "I am doing work\n",
            "winner winner chiken dinner  \n",
            "I am win the macth\n",
            "I am doing work\n",
            "winner winner chiken dinner  \n",
            "I am a district player\n",
            "I got Royle pass Diamond\n"
          ]
        }
      ]
    },
    {
      "cell_type": "markdown",
      "source": [],
      "metadata": {
        "id": "NFk0lZc6gado"
      }
    },
    {
      "cell_type": "code",
      "source": [
        "# quize compitation :\n",
        "def ask_quaction(question,options,answer):\n",
        "  print(\"\\n\",question)\n",
        "  for key , value in options.items():\n",
        "    print(f\"{key}.{value}\")\n",
        "\n",
        "  user_choice = input(\"Enter the chpoice(a/b/c/d): \").lower()\n",
        "\n",
        "  match user_choice:\n",
        "    case 'a'|'b'|'c'|'d':\n",
        "      if user_choice == answer:\n",
        "        print(\"correct answer !\")\n",
        "        return 1\n",
        "      else:\n",
        "        print(\"wrong answer !\")\n",
        "        return 0\n",
        "    case _:\n",
        "      print(\"Invalid choice\")\n",
        "      return 0\n",
        "\n",
        "print(\"Welcome to python the Quiz Compitation\")\n",
        "player_name = input(\"Enter your name  : \")\n",
        "\n",
        "score = 0\n",
        "quaction = [\n",
        "    {\"q \": \"1)which of the following is a variable name ?\",\n",
        "     \"options\":{\"a\":\"1var\",\"b\":\"var1\",\"c\":\"var-1\",\"d\":\"var 1\"},\"ans\":\n",
        "     \"b\"},\n",
        "\n",
        "    {\"q\":\"2)What is the output of : x = 5;x += 3;print(x)\",\"options\":\n",
        "     {\"a\":\"8\",\"b\":\"53\",\"c\":\"5\",\"d\":\"error\"},\"ans\":\"a\"},\n",
        "\n",
        "    {\"q\":\"3)Which of the following is immuytable ?\",\"options\": {\"a\":\n",
        "  \"list\",\"b\":\"set\",\"c\":\"tuple\",\"d\":\"Dictonary\"},\"ans\": \"c\"},\n",
        "\n",
        "    {\"q\":\"4)Type of 3.142 in python?\",\"option\":{\"a\": \"int\",\"b\":\n",
        "  \"float\",\"c\":\"complex\",\"d\": \"Double\"},\"ans\":\"b\"},\n",
        "\n",
        "    {\"q\":\"5)Which of these is a dictonary?\",\"options\":{\"a\":\n",
        "   \"[1,2,3]\",\"b\":\"(1,2,3)\",\"c\":\"{'a':1}\",\"d\":\"{1,2,3}\"},\"ans\":\"c\"},\n",
        "\n",
        "    {\"q\":\"6)What is output of len({1,2,3,4})?\",\"options\":{\"a\": \"3\",\n",
        "    \"b\":\"4\",\"c\":\"error\",\"d\":\"0\"},\"ans\":\"b\"},\n",
        "\n",
        "    {\"q\":\"7)output of 5**2?\",\"options\":{\"a\":\"10\",\"b\":\"25\",\"c\":\n",
        "    \"7\",\"d\":\"52\"},\"ans\":\"b\"},\n",
        "\n",
        "    {\"q\":\"8)Which oprator is floor division?\",\"optons\":{\"a\":\"/\",\n",
        "   \"b\":\"//\",\"c\":\"%\",\"d\":\"**\"},\"ans\":\"b\"},\n",
        "\n",
        "    {\"q\":\"9)output of : if 5>3:\\n  print('yes')\",\"options\":{\"a\":\n",
        "    \"elseif\",\"b\":\"No\",\"c\":\"Error\",\"d\":\"5>3\"},\"ans\":\"a\"},\n",
        "\n",
        "    {\"q\":\"10)Which Keywords is used for else-if?\" ,\"options\":{\"a\":\n",
        "    \"elseif\",\"b\": \"elif\",\"c\":\"else if\",\"d\":\"elifse\"},\"ans\":\"b\"},\n",
        "\n",
        "    {\"q\":\"11)Which loop is usedc when number of itaration is known?\",\"options\":{\"a\":\"for\",\"b\":\"while\",\"c\":\"do-while\",\"d\":\"None\"},\"ans\":\"a\"},\n",
        "\n",
        "    {\"q\":\"12)How to exit a loop immediatly?\",\"options\":{\"a\":\"stop\",\"b\":\"break\",\"c\":\"exit\",\"d\":\"return\"},\"ans\":\"b\"},\n",
        "\n",
        "    {\"q\":\"13)Keyword to define  a fuctions?\",\"options\":{\"a\":\"functions\",\"b\":\"def\",\"c\":\"fun\",\"d\":\"define\"},\"ans\":\"b\"},\n",
        "\n",
        "    {\"q\":\"14)Function that returns nothing?\",\"options\":{\"a\":\"return none\",\"b\":\"void\",\"c\":\"pass\",\"d\":\"all of the above\"},\"ans\":\"a\"},\n",
        "\n",
        "    {\"q\":\"15)Which method is the constractor inb python class?\",\"options\":{\"a\":\"__init__\",\"b\":\"__start__\",\"c\":\"__create__\",\"d\":\"construtor\"},\"ans\":\"a\"},\n",
        "\n",
        "    {\"q\":\"16)Whivh of these is inheritance example?\",\"options\":{\"a\":\"class A:\\n pass\\nclassB(A):\\n pass\",\"b\":\"x= 5\",\"c\":\"def func()pass\",\"d\":\"if True : pass\"},\"ans\":\"a\"},\n",
        "\n",
        "    {\"q\":\"17)What is the type of True?\",\"options\":{\"a\":\"int\",\"b\":\"bool\",\"c\":\"str\",\"d\":\"float\"},\"ans\":\"b\"},\n",
        "\n",
        "    {\"q\":\"18)Which collection type allows duplicates?\",\"options\":{\"a\":\"set\",\"b\":\"Dict\",\"c\":\"list\",\"d\":\"tuple\"},\"ans\":\"c\"},\n",
        "\n",
        "    {\"q\":\"19)Which collection type is unorderd?\",\"options\":{\"a\":\"list\",\"b\":\"tuple\",\"c\":\"set\",\"d\":\"str\"},\"ans\":\"c\"},\n",
        "\n",
        "    {\"q\":\"20)output of 10%3?\",\"options\":{\"a\":\"3\",\"b\":\"1\",\"c\":\"0\",\"d\":\"error\"},\"ans\":\"b\"},\n",
        "\n",
        "    {\"q\":\"21)if 5>10:\\n print('yes')\\nelse:\\n print('No')\",\"options\":{\"a\":\"yes\",\"b\":\"no\",\"c\":\"error\",\"d\":\"5>10\"},\"ans\":\"b\"},\n",
        "\n",
        "    {\"q\":\"22)output of :\\n for i in range(3):\\n print(i)\",\"options\":{\"a\":\"123\",\"b\":\"012\",\"c\":\"0123\",\"d\":\"12\"},\"ans\":\"b\"},\n",
        "\n",
        "    {\"q\":\"23)encarpsulation in python is done by?\",\"options\":{\"a\":\"private variables\",\"b\":\"inheritance\",\"c\":\"polymorphism\",\"d\":\"abstactions\"},\"ans\":\"a\"},\n",
        "\n",
        "    {\"q\":\"24)polymorphism means?\",\"options\":{\"a\":\"multple forms\",\"b\":\"single forms\",\"c\":\"inheritance\",\"d\":\"encapsulation\"},\"ans\":\"a\"},\n",
        "\n",
        "     {\"q\":\"25)Dynamic typing ,means?\",\"options\":{\"a\":\" type assigned at run time\",\"b\":\" type assigned at compile-time\",\"c\":\"fixed type\",\"d\":\"error\"},\"ans\":\"a\"},\n",
        "\n",
        "     {\"q\":\"26)type of none ?\",\"options\":{\"a\":\"int\",\"b\":\"str\",\"c\":\"none type\",\"d\":\"bool\"},\"ans\":\"c\"},\n",
        "\n",
        "     {\"q\":\"27)How to access firdt elliment of list 1 = [10,20]?\",\"options\":{\"a\":\"1[0]\",\"b\":\"1[1]\",\"c\":\"1[-1]\",\"d\":\"1.first\"},\"ans\":\"a\"},\n",
        "\n",
        "    {\"q\":\"28)Which returns a value?\",\"options\":{\"a\":\"print()\",\"b\":\"return\",\"c\":\"pass\",\"d\":\"input\"},\"ans\":\"b\"},\n",
        "\n",
        "     {\"q\":\"29)Abration means?\",\"options\":{\"a\":\"Hiding implimentaion\",\"b\":\"over loading\",\"c\":\"inheritance\",\"d\":\"polymrphism\"},\"ans\":\"a\"},\n",
        "\n",
        "     {\"q\":\"30)Which is mutable string type ?\",\"options\":{\"a\":\"str\",\"b\":\"list\",\"c\":\"tuple\",\"d\":\"int\"},\"ans\":\"b\"},\n",
        "\n",
        "     {\"q\":\"31)Which keyword is used to inherite  ?\",\"options\":{\"a\":\"inherits\",\"b\":\"super\",\"c\":\"classB(A)\",\"d\":\"extands\"},\"ans\":\"c\"},\n",
        "\n",
        "     {\"q\":\"32)output of bool(\"\")?\",\"options\":{\"a\":\"True\",\"b\":\"Flase\",\"c\":\"none\",\"d\":\"error\"},\"ans\":\"b\"},\n",
        "\n",
        "     {\"q\":\"33)what does pass do ?\",\"options\":{\"a\":\"skip\",\"b\":\"exit\",\"c\":\"print\",\"d\":\"return\"},\"ans\":\"a\"},\n",
        "\n",
        "\n",
        "     {\"q\":\"34)Which method convarts string to lower case?\",\"options\":{\"a\":\"lower()\",\"b\":\"up()\",\"c\":\"captalize\",\"d\":\"lower case()\"},\"ans\":\"a\"},\n",
        "\n",
        "     {\"q\":\"35)Which collection stroes key-value pairs?\",\"options\":{\"a\":\"list\",\"b\":\"tuple\",\"c\":\"Dictoranry \",\"d\":\"bool\"},\"ans\":\"c\"},\n",
        "\n",
        "]\n",
        "\n",
        "for q in questions:\n",
        "    score+=ask_question(q[\"q\"],q[\"options\"],q[\"ans\"])\n",
        "print(\"\\n-----RESULT-----\")\n",
        "print(f\"player:{player_name}\")\n",
        "print(f\"your Score :{score}/{len(questions)}\")\n",
        "\n",
        "if score==len(question):\n",
        "    print(\"Exlent !Full marks\")\n",
        "\n",
        "elif score>=25:\n",
        "    print(\"Good job,Keep practicing !\")\n",
        "\n",
        "else:\n",
        "    print(\"Needs Improvement\")\n",
        "\n"
      ],
      "metadata": {
        "colab": {
          "base_uri": "https://localhost:8080/"
        },
        "id": "a1eFv5r3hiyC",
        "outputId": "e4ea152b-d778-484c-c20b-f4d0cf0d0dc1"
      },
      "execution_count": null,
      "outputs": [
        {
          "output_type": "stream",
          "name": "stdout",
          "text": [
            "Welcome to python the Quiz Compitation\n"
          ]
        }
      ]
    },
    {
      "cell_type": "code",
      "source": [
        "\"d{}"
      ],
      "metadata": {
        "id": "CwDjVBQln5_8"
      },
      "execution_count": null,
      "outputs": []
    }
  ]
}