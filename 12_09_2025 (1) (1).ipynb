{
  "nbformat": 4,
  "nbformat_minor": 0,
  "metadata": {
    "colab": {
      "provenance": []
    },
    "kernelspec": {
      "name": "python3",
      "display_name": "Python 3"
    },
    "language_info": {
      "name": "python"
    }
  },
  "cells": [
    {
      "cell_type": "code",
      "execution_count": 1,
      "metadata": {
        "colab": {
          "base_uri": "https://localhost:8080/"
        },
        "id": "knMKcXlqW6Co",
        "outputId": "f2f212a4-8373-4dff-ed66-3dda0197b71d"
      },
      "outputs": [
        {
          "output_type": "stream",
          "name": "stdout",
          "text": [
            "hellow word\n"
          ]
        }
      ],
      "source": [
        "print(\"hellow word\")"
      ]
    },
    {
      "cell_type": "code",
      "source": [
        "print(\"good morning \")\n",
        "print(\"i am darshan sankavvagol\")\n",
        "print(\"bk kle collage chikkodi\")\n",
        "print(\"sjpn collage nidasishi\")"
      ],
      "metadata": {
        "colab": {
          "base_uri": "https://localhost:8080/"
        },
        "id": "jDkzlDI3XQrU",
        "outputId": "b077d24f-a517-47a7-8230-cb2ec61043d9"
      },
      "execution_count": 2,
      "outputs": [
        {
          "output_type": "stream",
          "name": "stdout",
          "text": [
            "good morning \n",
            "i am darshan sankavvagol\n",
            "bk kle collage chikkodi\n",
            "sjpn collage nidasishi\n"
          ]
        }
      ]
    },
    {
      "cell_type": "code",
      "source": [
        "print(\"i am darshan sankavvagol\")"
      ],
      "metadata": {
        "colab": {
          "base_uri": "https://localhost:8080/"
        },
        "id": "Jz-7ou17Xvuz",
        "outputId": "3c96397a-43cd-400a-a999-a1c2b2e3100d"
      },
      "execution_count": 3,
      "outputs": [
        {
          "output_type": "stream",
          "name": "stdout",
          "text": [
            "i am darshan sankavvagol\n"
          ]
        }
      ]
    },
    {
      "cell_type": "code",
      "source": [
        "print(\"bk kle collage chikkodi\")"
      ],
      "metadata": {
        "colab": {
          "base_uri": "https://localhost:8080/"
        },
        "id": "WrGShXZMX0nK",
        "outputId": "f6ad923c-08fe-4f24-a534-ac72820a8475"
      },
      "execution_count": 4,
      "outputs": [
        {
          "output_type": "stream",
          "name": "stdout",
          "text": [
            "bk kle collage chikkodi\n"
          ]
        }
      ]
    },
    {
      "cell_type": "code",
      "source": [
        "print(\"sjpn collage nidasishi\")"
      ],
      "metadata": {
        "colab": {
          "base_uri": "https://localhost:8080/"
        },
        "id": "OnAi5eAKX4Xr",
        "outputId": "4bf2ea28-0d86-4ee3-d674-7f0efbd757c7"
      },
      "execution_count": 5,
      "outputs": [
        {
          "output_type": "stream",
          "name": "stdout",
          "text": [
            "sjpn collage nidasishi\n"
          ]
        }
      ]
    },
    {
      "cell_type": "code",
      "source": [
        "print(\"omkar kumbar\")"
      ],
      "metadata": {
        "colab": {
          "base_uri": "https://localhost:8080/"
        },
        "id": "uEu-nwvcYC3j",
        "outputId": "52144c23-55c5-4e82-9226-0e37ec75b92d"
      },
      "execution_count": 6,
      "outputs": [
        {
          "output_type": "stream",
          "name": "stdout",
          "text": [
            "omkar kumbar\n"
          ]
        }
      ]
    },
    {
      "cell_type": "code",
      "source": [
        "print(\"bk college chikodi\")"
      ],
      "metadata": {
        "colab": {
          "base_uri": "https://localhost:8080/"
        },
        "id": "izJ28CJZYXUK",
        "outputId": "4de07112-6884-4d00-d449-86308801aa9d"
      },
      "execution_count": 7,
      "outputs": [
        {
          "output_type": "stream",
          "name": "stdout",
          "text": [
            "bk college chikodi\n"
          ]
        }
      ]
    },
    {
      "cell_type": "code",
      "source": [
        "print(\"PU college majalatti\")"
      ],
      "metadata": {
        "colab": {
          "base_uri": "https://localhost:8080/"
        },
        "id": "dagLd5gtYmwD",
        "outputId": "240ada58-dedd-4f94-8f5b-4f6ab7a94e51"
      },
      "execution_count": 9,
      "outputs": [
        {
          "output_type": "stream",
          "name": "stdout",
          "text": [
            "PU college majalatti\n"
          ]
        }
      ]
    },
    {
      "cell_type": "code",
      "source": [
        "print(5+55)"
      ],
      "metadata": {
        "colab": {
          "base_uri": "https://localhost:8080/"
        },
        "id": "v9lVIaDcY_Na",
        "outputId": "43097430-ad48-4610-c0ab-0db26d86212e"
      },
      "execution_count": 10,
      "outputs": [
        {
          "output_type": "stream",
          "name": "stdout",
          "text": [
            "60\n"
          ]
        }
      ]
    },
    {
      "cell_type": "code",
      "source": [
        "print(5+5-6*7/2)"
      ],
      "metadata": {
        "colab": {
          "base_uri": "https://localhost:8080/"
        },
        "id": "71EomXn-ZJr7",
        "outputId": "27c1a6c2-7eac-4c82-ef86-32e4c6133759"
      },
      "execution_count": 11,
      "outputs": [
        {
          "output_type": "stream",
          "name": "stdout",
          "text": [
            "-11.0\n"
          ]
        }
      ]
    },
    {
      "cell_type": "code",
      "source": [],
      "metadata": {
        "id": "AM-ol3GzZFkL"
      },
      "execution_count": 9,
      "outputs": []
    }
  ]
}