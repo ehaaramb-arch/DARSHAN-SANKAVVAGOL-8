{
  "nbformat": 4,
  "nbformat_minor": 0,
  "metadata": {
    "colab": {
      "provenance": []
    },
    "kernelspec": {
      "name": "python3",
      "display_name": "Python 3"
    },
    "language_info": {
      "name": "python"
    }
  },
  "cells": [
    {
      "cell_type": "code",
      "source": [
        "class Bird:\n",
        "  def fly(self):\n",
        "    print(\"some birds can fly\")\n",
        ""
      ],
      "metadata": {
        "id": "wOEEQBrwCFsL"
      },
      "execution_count": 1,
      "outputs": []
    },
    {
      "cell_type": "code",
      "source": [
        "class BCA_1St_Semester :\n",
        "    def student(self,a,b=0,c=0,d=0):\n",
        "      return a+b+c+d\n",
        "BCA = BCA_1St_Semester()\n",
        "print(BCA.student(5))\n",
        "print(BCA.student(10,7,8))\n",
        "print(BCA.student(-10,4,9,-5))\n",
        "print(BCA.student(99,0,4,-12))\n",
        "\n"
      ],
      "metadata": {
        "colab": {
          "base_uri": "https://localhost:8080/"
        },
        "id": "RkXtwJgjGYoH",
        "outputId": "d9ce0e82-6190-43c1-c05d-1deee8884c81"
      },
      "execution_count": 19,
      "outputs": [
        {
          "output_type": "stream",
          "name": "stdout",
          "text": [
            "5\n",
            "25\n",
            "-2\n",
            "91\n",
            "-200\n"
          ]
        }
      ]
    },
    {
      "cell_type": "code",
      "source": [
        "class Animal:\n",
        "    def sound(self):\n",
        "      print(\"Animal makes a sound\")\n",
        "\n",
        "class Dog(Animal):\n",
        "    def sound(self):\n",
        "       print(\"Bow BOW Bow\")\n",
        "\n",
        "\n",
        "class Cat  (Animal):\n",
        "    def sound(self):\n",
        "       print(\"Meow MeOW Meow\")\n",
        "\n",
        "class Snake (Animal) :\n",
        "   def sound(self):\n",
        "    print(\"Buussssssssss\")\n",
        "\n",
        "class Cow (Animal) :\n",
        "   def sound(self):\n",
        "    print('Ammbbbbbbbbaaaa')\n",
        "\n",
        "obj1 = Animal()\n",
        "obj2 = Dog()\n",
        "obj3 = Cat()\n",
        "obj4 = Snake()\n",
        "obj5 = Cow()\n",
        "\n",
        "obj1.sound()\n",
        "obj2.sound()\n",
        "obj3.sound()\n",
        "obj4.sound()\n",
        "obj5.sound()"
      ],
      "metadata": {
        "colab": {
          "base_uri": "https://localhost:8080/"
        },
        "id": "t2kl_X30JwrM",
        "outputId": "363655d4-03ae-4175-9502-a8e96557389c"
      },
      "execution_count": 22,
      "outputs": [
        {
          "output_type": "stream",
          "name": "stdout",
          "text": [
            "Animal makes a sound\n",
            "Bow BOW Bow\n",
            "Meow MeOW Meow\n",
            "Buussssssssss\n",
            "Ammbbbbbbbbaaaa\n"
          ]
        }
      ]
    },
    {
      "cell_type": "code",
      "source": [
        "class Book :\n",
        "   def __init__(self,page):\n",
        "      self.page = page\n",
        "   def __add__(self,other):\n",
        "      return self.page + other.page\n",
        "obj1= Book(200)\n",
        "obj2 = Book(300)\n",
        "print(\"Total pages is\",obj1 + obj2)"
      ],
      "metadata": {
        "id": "3UEx4n2HPCOX",
        "outputId": "b01a1d0c-e557-408a-ff9f-009886453c91",
        "colab": {
          "base_uri": "https://localhost:8080/"
        }
      },
      "execution_count": 30,
      "outputs": [
        {
          "output_type": "stream",
          "name": "stdout",
          "text": [
            "Total pages is 500\n"
          ]
        }
      ]
    },
    {
      "cell_type": "code",
      "source": [
        "from abc import ABC, abstractmethod\n",
        "class vehicle(ABC):\n",
        "  def sound(self):\n",
        "    pass\n",
        "class Car (vehicle):\n",
        "  def sound(self):\n",
        "    print(\"I am driving a Car\")\n",
        "\n",
        "\n",
        "obj = Car()\n",
        "obj.sound()\n"
      ],
      "metadata": {
        "id": "Xv5QROAZQqIe",
        "outputId": "b3d76405-292f-4289-a506-65128ecc65c2",
        "colab": {
          "base_uri": "https://localhost:8080/"
        }
      },
      "execution_count": 36,
      "outputs": [
        {
          "output_type": "stream",
          "name": "stdout",
          "text": [
            "I am driving a Car\n"
          ]
        }
      ]
    },
    {
      "cell_type": "code",
      "source": [
        "from abc import ABC,abstractmethod\n",
        "class Game (ABC):\n",
        "  def Acting (self):\n",
        "    print(\"I am doing work\")\n",
        "\n",
        "  def Free_fire(self):\n",
        "    print(\"winner winner chiken dinner  \")\n",
        "\n",
        "  def BGMI(self):\n",
        "    pass\n",
        "  def Cricket(self):\n",
        "    print(\"I am win the macth\")\n",
        "\n",
        "class Temple_Run (Game):\n",
        "\n",
        "  def BGMI(self):\n",
        "      print(\"I got Royle pass Diamond\")\n",
        "\n",
        "  def Chees(self):\n",
        "      print(\"I am a district player\")\n",
        "\n",
        "obj = Game()\n",
        "obj.Acting()\n",
        "obj.Free_fire()\n",
        "obj.BGMI()\n",
        "obj.Cricket()\n",
        "obj =Temple_Run()\n",
        "obj.Acting()\n",
        "obj.Free_fire()\n",
        "obj.Chees()\n",
        "obj.BGMI()\n",
        "\n"
      ],
      "metadata": {
        "id": "Sbg8bdaNUy9v",
        "outputId": "8e70728b-152e-4551-ce76-ee29efbc287a",
        "colab": {
          "base_uri": "https://localhost:8080/"
        }
      },
      "execution_count": 72,
      "outputs": [
        {
          "output_type": "stream",
          "name": "stdout",
          "text": [
            "I am doing work\n",
            "winner winner chiken dinner  \n",
            "I am win the macth\n",
            "I am doing work\n",
            "winner winner chiken dinner  \n",
            "I am a district player\n",
            "I got Royle pass Diamond\n"
          ]
        }
      ]
    },
    {
      "cell_type": "markdown",
      "source": [],
      "metadata": {
        "id": "NFk0lZc6gado"
      }
    },
    {
      "cell_type": "code",
      "source": [
        "# quize compitation :\n",
        "def ask_quaction(quaction,options,answer):\n",
        "  print(\"\\n\",quaction)\n",
        "  for key , value in options.items():\n",
        "    print(f\"{key}.{value}\")\n",
        "\n",
        "  user_choice = input(\"Enter the chpoice(a/b/c/d): \").lower()\n",
        "\n",
        "  match user_choice:\n",
        "    case 'a'|'b'|'c'|'d':\n",
        "      if user_choice == answer:\n",
        "        print(\"correct answer !\")\n",
        "        return 1\n",
        "      else:\n",
        "        print(\"wrong answer !\")\n",
        "        return 0\n",
        "    case _:\n",
        "      print(\"Invalid choice\")\n",
        "      return 0\n",
        "\n",
        "print(\"Welcome to python the Quiz Compitation\")\n",
        "player_name = input(\"Enter your name  : \")\n",
        "\n",
        "score = 0\n",
        "quaction = [\n",
        "    {\"q \": \"1)which of the following is a variable name ?\",\n",
        "     \"options\":{\"a\":\"1var\",\"b\":\"var1\",\"c\":\"var-1\",\"d\":\"var 1\"},\"ans\":\n",
        "     \"b\"},\n",
        "\n",
        "    {\"q\":\"2)What is the output of : x = 5;x += 3;print(x)\",\"options\":\n",
        "     {\"a\":\"8\",\"b\":\"53\",\"c\":\"5\",\"d\":\"error\"},\"ans\":\"a\"},\n",
        "\n",
        "    {\"q\":\"3)Which of the following is immuytable ?\",\"options\": {\"a\":\n",
        "  \"list\",\"b\":\"set\",\"c\":\"tuple\",\"d\":\"Dictonary\"},\"ans\": \"c\"},\n",
        "\n",
        "    {\"q\":\"4)Type of 3.142 in python?\",\"option\":{\"a\": \"int\",\"b\":\n",
        "  \"float\",\"c\":\"complex\",\"d\": \"Double\"},\"ans\":\"b\"},\n",
        "\n",
        "    {\"q\":\"5)Which of these is a dictonary?\",\"options\":{\"a\":\n",
        "   \"[1,2,3]\",\"b\":\"(1,2,3)\",\"c\":\"{'a':1}\",\"d\":\"{1,2,3}\"},\"ans\":\"c\"},\n",
        "\n",
        "    {\"q\":\"6)What is output of len({1,2,3,4})?\",\"options\":{\"a\": \"3\",\n",
        "    \"b\":\"4\",\"c\":\"error\",\"d\":\"0\"},\"ans\":\"b\"},\n",
        "\n",
        "    {\"q\":\"7)output of 5**2?\",\"options\":{\"a\":\"10\",\"b\":\"25\",\"c\":\n",
        "    \"7\",\"d\":\"52\"},\"ans\":\"b\"},\n",
        "\n",
        "    {\"q\":\"8)Which oprator is floor division?\",\"optons\":{\"a\":\"/\",\n",
        "   \"b\":\"//\",:\"c\":\"%\",\"d\":\"**\"},\"ans\":\"b\"},\n",
        "\n",
        "    {\"q\":\"9)output of : if 5>3:\\n  print('yes')\n",
        "\n",
        "\n",
        "\n",
        "]\n",
        "\n"
      ],
      "metadata": {
        "id": "a1eFv5r3hiyC",
        "outputId": "66c4c044-861b-409c-e87a-692d38caa4d4",
        "colab": {
          "base_uri": "https://localhost:8080/"
        }
      },
      "execution_count": null,
      "outputs": [
        {
          "output_type": "stream",
          "name": "stdout",
          "text": [
            "Welcome to python the Quiz Compitation\n"
          ]
        }
      ]
    },
    {
      "cell_type": "code",
      "source": [],
      "metadata": {
        "id": "CwDjVBQln5_8"
      },
      "execution_count": null,
      "outputs": []
    }
  ]
}