{
  "nbformat": 4,
  "nbformat_minor": 0,
  "metadata": {
    "colab": {
      "provenance": []
    },
    "kernelspec": {
      "name": "python3",
      "display_name": "Python 3"
    },
    "language_info": {
      "name": "python"
    }
  },
  "cells": [
    {
      "cell_type": "code",
      "execution_count": 7,
      "metadata": {
        "colab": {
          "base_uri": "https://localhost:8080/"
        },
        "id": "h_X1CBy2o4DX",
        "outputId": "3087252d-d3bd-4aaa-897a-3ec216bed171"
      },
      "outputs": [
        {
          "output_type": "stream",
          "name": "stdout",
          "text": [
            "['laptop', 35000, 'window', 'lenovo', 'bengluru', 'laptop', 35000, 'MCA', 'lenovo', 'chikodi']\n",
            "2\n"
          ]
        }
      ],
      "source": [
        "Ex=[\"laptop\",35000,\"window\",\"lenovo\",\"bengluru\",\"laptop\",35000,\"MCA\",\"lenovo\",\"chikodi\"]\n",
        "print(Ex)\n",
        "print(Ex.count(\"lenovo\"))"
      ]
    },
    {
      "cell_type": "code",
      "source": [
        "#cpmpile time program\n",
        "A=10\n",
        "B=20\n",
        "print(A + B)"
      ],
      "metadata": {
        "colab": {
          "base_uri": "https://localhost:8080/"
        },
        "id": "0holKGQtqtVH",
        "outputId": "b8cf1dc3-b6a0-4893-eeb5-e3fd58b33cad"
      },
      "execution_count": 8,
      "outputs": [
        {
          "output_type": "stream",
          "name": "stdout",
          "text": [
            "30\n"
          ]
        }
      ]
    },
    {
      "cell_type": "code",
      "source": [
        "#Run time program\n",
        "a=int(input(\"Enter the value of X\"))\n",
        "b=int(input(\"Enter the value of Y\"))\n",
        "c = a + b\n",
        "print(\"Addition of 10 and 20 :\",c)\n"
      ],
      "metadata": {
        "colab": {
          "base_uri": "https://localhost:8080/"
        },
        "id": "jSIhYCsasKy_",
        "outputId": "aeac250d-2bb7-407a-a471-cfd0a0efb58a"
      },
      "execution_count": 18,
      "outputs": [
        {
          "output_type": "stream",
          "name": "stdout",
          "text": [
            "Enter the value of X10\n",
            "Enter the value of Y20\n",
            "Addition of 10 and 20 : 30\n"
          ]
        }
      ]
    },
    {
      "cell_type": "code",
      "source": [
        "#Addition of 10 and 20 value is = 30\n",
        "a=int(input(\"Enter the value of X\"))\n",
        "b=int(input(\"Enter the value of Y\"))\n",
        "print(\"adddition10 of\", a,  \"and\" ,b ,\"value is= \",a+b)\n"
      ],
      "metadata": {
        "colab": {
          "base_uri": "https://localhost:8080/"
        },
        "id": "93n_VKxStql3",
        "outputId": "6d533ae7-6da1-4d6f-ecc0-66c664d461d5"
      },
      "execution_count": 24,
      "outputs": [
        {
          "output_type": "stream",
          "name": "stdout",
          "text": [
            "Enter the value of X10\n",
            "Enter the value of Y20\n",
            "adddition10 of 10 and 20 value is=  30\n"
          ]
        }
      ]
    },
    {
      "cell_type": "code",
      "source": [
        "first=float(input(\"Enter first value\"))\n",
        "second=float(input(\"Enter second value\"))\n",
        "print(\"your answer is : \",first+second)\n",
        "print(\"your answer is : \",first-second)\n",
        "print(\"your answer is : \",first*second)\n",
        "print(\"your answer is : \",first/second)\n"
      ],
      "metadata": {
        "colab": {
          "base_uri": "https://localhost:8080/"
        },
        "id": "U6nsQNnZv09Q",
        "outputId": "d99585c7-c1aa-4f0d-aace-15cd1718cc86"
      },
      "execution_count": 29,
      "outputs": [
        {
          "output_type": "stream",
          "name": "stdout",
          "text": [
            "Enter first value5\n",
            "Enter second value10\n",
            "your answer is :  15.0\n",
            "your answer is :  -5.0\n",
            "your answer is :  50.0\n",
            "your answer is :  0.5\n"
          ]
        }
      ]
    },
    {
      "cell_type": "code",
      "source": [
        "first=input( \" enter first name  \" )\n",
        "second=input( \" enter second name  \" )\n",
        "print( first +  second )"
      ],
      "metadata": {
        "colab": {
          "base_uri": "https://localhost:8080/"
        },
        "id": "QKO4XPNGwySu",
        "outputId": "219ddd34-0ee9-4434-d501-57718b88e49f"
      },
      "execution_count": 37,
      "outputs": [
        {
          "output_type": "stream",
          "name": "stdout",
          "text": [
            " enter first name  omkar\n",
            " enter second name  kumbar\n",
            "omkarkumbar\n"
          ]
        }
      ]
    },
    {
      "cell_type": "code",
      "source": [
        "name = int(input(\"value of i is: \"))\n",
        "name1 = int(input(\"value of j is : \"))\n",
        "print(\"the multiple of two num is : \",name*name1)\n",
        "print(\"the subtraction of two num is:\",name-name1)\n",
        "print(\"the multiple of two num is:\",name*name1)\n",
        "print(\"the moudius of two num is:\",name%name1)\n",
        "print(\"the exponent of two num is:\",name**name1)\n",
        "print(\"the floor division of two num is:\",name//name1)\n",
        "\n"
      ],
      "metadata": {
        "colab": {
          "base_uri": "https://localhost:8080/"
        },
        "id": "7m-6t6khx8JW",
        "outputId": "0c0aad97-3bb0-49a7-faf0-a155be4b29c8"
      },
      "execution_count": 58,
      "outputs": [
        {
          "output_type": "stream",
          "name": "stdout",
          "text": [
            "value of i is: 2\n",
            "value of j is : 8\n",
            "the multiple of two num is :  16\n",
            "the subtraction of two num is: -6\n",
            "the multiple of two num is: 16\n",
            "the division of two num is: 0.25\n",
            "the moudlus of two num is: 2\n",
            "the exponent of two num is: 256\n",
            "the floor division of two num is: 0\n"
          ]
        }
      ]
    },
    {
      "cell_type": "code",
      "source": [
        "num1 = 4\n",
        "num2 = 2\n",
        "sum = (num1+num2)\n",
        "print(sum)"
      ],
      "metadata": {
        "colab": {
          "base_uri": "https://localhost:8080/"
        },
        "id": "XKRbwx6wAAqd",
        "outputId": "5ce065fa-9f2f-45dc-a829-39f69485e65a"
      },
      "execution_count": 45,
      "outputs": [
        {
          "output_type": "stream",
          "name": "stdout",
          "text": [
            "6\n"
          ]
        }
      ]
    },
    {
      "cell_type": "code",
      "source": [
        "X=6\n",
        "Y=2\n",
        "print(\"Exponent value is:\",X ** Y)"
      ],
      "metadata": {
        "colab": {
          "base_uri": "https://localhost:8080/"
        },
        "id": "O5AVCkGKDURk",
        "outputId": "26235373-366a-470e-c25a-904b5c493ec4"
      },
      "execution_count": 61,
      "outputs": [
        {
          "output_type": "stream",
          "name": "stdout",
          "text": [
            "Exponent value is: 36\n"
          ]
        }
      ]
    },
    {
      "cell_type": "code",
      "source": [
        "X=10\n",
        "Y=20\n",
        "print(X>Y)\n",
        "print()\n",
        "print(X<Y)\n",
        "print()\n",
        "print(X==Y)\n",
        "print()\n",
        "print(X!=Y)\n",
        "print()\n",
        "print(X>=Y)\n",
        "print()\n",
        "print(X<=Y)\n",
        "print()\n"
      ],
      "metadata": {
        "colab": {
          "base_uri": "https://localhost:8080/"
        },
        "id": "yj6SMf58E1C1",
        "outputId": "8b49e845-f9c6-4678-a79d-b17ef733bb48"
      },
      "execution_count": 70,
      "outputs": [
        {
          "output_type": "stream",
          "name": "stdout",
          "text": [
            "False\n",
            "\n",
            "True\n",
            "\n",
            "False\n",
            "\n",
            "True\n",
            "\n",
            "False\n",
            "\n",
            "True\n",
            "\n"
          ]
        }
      ]
    },
    {
      "cell_type": "code",
      "source": [
        "Ex= \"omkar\" or \"rahul\"\n",
        "print(Ex)"
      ],
      "metadata": {
        "colab": {
          "base_uri": "https://localhost:8080/"
        },
        "id": "pFeJ6JqQ0e6x",
        "outputId": "cb10d67a-b49d-4bdf-fe91-19b0aa56095f"
      },
      "execution_count": 90,
      "outputs": [
        {
          "output_type": "stream",
          "name": "stdout",
          "text": [
            "omkar\n"
          ]
        }
      ]
    },
    {
      "cell_type": "code",
      "source": [
        "a=20\n",
        "b=35\n",
        "c=13\n",
        "d=10\n",
        "\n",
        "\n",
        "print(a==b and c<d)\n",
        "\n",
        "print(30!=c and d<c)\n",
        "\n",
        "print(b>a and d<c)\n",
        "\n",
        "print(20!=a and c==d)\n",
        "\n",
        "print(a<b or d==c)\n",
        "print((not(a<b))and 100<200)\n",
        "print(not(d==10))\n",
        "print(35 !=d or(not(20==a)))\n",
        "print(not(a>b))\n",
        "print(not(c<=d and(not(a<=c))))\n"
      ],
      "metadata": {
        "colab": {
          "base_uri": "https://localhost:8080/"
        },
        "id": "-tMvxvkh6Cjg",
        "outputId": "d9516930-b108-432b-de8e-703c34352017"
      },
      "execution_count": 108,
      "outputs": [
        {
          "output_type": "stream",
          "name": "stdout",
          "text": [
            "False\n",
            "True\n",
            "True\n",
            "False\n",
            "True\n",
            "False\n",
            "False\n",
            "True\n",
            "True\n",
            "True\n"
          ]
        }
      ]
    },
    {
      "cell_type": "code",
      "source": [
        "x=10\n",
        "print(x)\n",
        "x-=2  #x=x - 2, x =10 -2\n",
        "print(x)\n",
        "x*=5  #x=x *5, x=8*5\n",
        "print(x)\n",
        "x//=3\n",
        "print(x)\n",
        "x**=2\n",
        "print(x)\n",
        "x%=4\n",
        "print(x)\n",
        "x+=9\n",
        "print(x)\n",
        "x/=3\n",
        "print(x)\n",
        "\n"
      ],
      "metadata": {
        "colab": {
          "base_uri": "https://localhost:8080/"
        },
        "id": "gwMg0-ba6Wgo",
        "outputId": "1740c849-283a-4aeb-f1c8-1836e10cc775"
      },
      "execution_count": 136,
      "outputs": [
        {
          "output_type": "stream",
          "name": "stdout",
          "text": [
            "10\n",
            "8\n",
            "40\n",
            "13\n",
            "169\n",
            "1\n",
            "10\n",
            "3.3333333333333335\n"
          ]
        }
      ]
    },
    {
      "cell_type": "code",
      "source": [
        "Num=9\n",
        "if Num<10:\n",
        "  print(\"10 is a greater than 9\")\n",
        "user_id =\"18MCA100\"\n",
        "password=1234\n",
        "if user_id==\"18MCA100\" and password==1234:\n",
        "  print(\"Access Granted\")\n",
        "else:\n",
        "  print(\"Access Deinted\")\n"
      ],
      "metadata": {
        "colab": {
          "base_uri": "https://localhost:8080/"
        },
        "id": "UzU7_MLmYn3R",
        "outputId": "c967bf91-32ae-477d-9ab2-c593d04f143f"
      },
      "execution_count": 154,
      "outputs": [
        {
          "output_type": "stream",
          "name": "stdout",
          "text": [
            "10 is a greater than 9\n",
            "Access Granted\n"
          ]
        }
      ]
    },
    {
      "cell_type": "code",
      "source": [
        "name = \"omkar\"\n",
        "if name <= \"bkc\" :\n",
        "  print(\"my name is omkar\")\n",
        "else:\n",
        "  print(\"omkar is wrong \")"
      ],
      "metadata": {
        "colab": {
          "base_uri": "https://localhost:8080/"
        },
        "id": "699kv5URbOHZ",
        "outputId": "3b813f2c-3f15-4d29-83b2-e30e37f37fba"
      },
      "execution_count": 165,
      "outputs": [
        {
          "output_type": "stream",
          "name": "stdout",
          "text": [
            "omkar is wrong \n"
          ]
        }
      ]
    },
    {
      "cell_type": "code",
      "source": [
        "num=int(input(\"enter a numbar value:\"))\n",
        "if num>0:\n",
        "  print(\"positive number\")\n",
        "elif num==0:\n",
        "  print(\"zero\")\n",
        "else:\n",
        "  print(\"negative number\")"
      ],
      "metadata": {
        "colab": {
          "base_uri": "https://localhost:8080/"
        },
        "id": "VpraHTuqeb-d",
        "outputId": "77f8c493-e9a5-42a6-9fc3-a012c166306e"
      },
      "execution_count": 175,
      "outputs": [
        {
          "output_type": "stream",
          "name": "stdout",
          "text": [
            "enter a numbar value:99\n",
            "positive number\n"
          ]
        }
      ]
    },
    {
      "cell_type": "code",
      "source": [
        "num=int(input(\"enter the number\"))\n",
        "if num% 2==0:\n",
        "  print(\"the number is even\")\n",
        "else:\n",
        "  print(\"the number is odd\")"
      ],
      "metadata": {
        "colab": {
          "base_uri": "https://localhost:8080/"
        },
        "id": "lH0qYaYJfw_6",
        "outputId": "3ac1b66d-5a7e-4a7d-dfd8-c39d9c1f2a23"
      },
      "execution_count": 180,
      "outputs": [
        {
          "output_type": "stream",
          "name": "stdout",
          "text": [
            "enter the number1000\n",
            "the number is even\n"
          ]
        }
      ]
    },
    {
      "cell_type": "code",
      "source": [
        "nuk= int(input(\"enter the year : \"))\n",
        "if nuk % 4==0:\n",
        "  print(\"the year is not leap\")\n",
        "else:\n",
        "  print(\"the year is leap\")"
      ],
      "metadata": {
        "colab": {
          "base_uri": "https://localhost:8080/"
        },
        "id": "lYn5F09LhOVo",
        "outputId": "f089f2f6-0b94-4dde-c92b-da016d7feac5"
      },
      "execution_count": 187,
      "outputs": [
        {
          "output_type": "stream",
          "name": "stdout",
          "text": [
            "enter the year : 2026\n",
            "the year is leap\n"
          ]
        }
      ]
    },
    {
      "cell_type": "code",
      "source": [
        "\n",
        "age = int(input(\"enter the age\"))\n",
        "\n",
        "if age>=18:\n",
        "  print(\"you are eligible for vote\")\n",
        "else:\n",
        "  print(\"you are not eligible for vote\")\n"
      ],
      "metadata": {
        "colab": {
          "base_uri": "https://localhost:8080/"
        },
        "id": "ewzugu9Tj5b7",
        "outputId": "b26119eb-b225-483c-f320-0039edc2b586"
      },
      "execution_count": 194,
      "outputs": [
        {
          "output_type": "stream",
          "name": "stdout",
          "text": [
            "enter the age18\n",
            "you are eligible for vote\n"
          ]
        }
      ]
    },
    {
      "cell_type": "code",
      "source": [
        "name = int(input(\"enter the user name\"))\n",
        "if name == 9480:\n",
        "  print(\"your possword is corret\")\n",
        "else:\n",
        "  print(\"forgot password\")\n"
      ],
      "metadata": {
        "colab": {
          "base_uri": "https://localhost:8080/"
        },
        "id": "imgFkqFBlkKK",
        "outputId": "0dec4197-a84a-4241-b8b4-bc63f4ec3e12"
      },
      "execution_count": 197,
      "outputs": [
        {
          "output_type": "stream",
          "name": "stdout",
          "text": [
            "enter the user name9480\n",
            "your possword is corret\n"
          ]
        }
      ]
    },
    {
      "cell_type": "code",
      "source": [
        "syntax\n",
        "if condition :\n",
        "  print(\"\")\n",
        "elif contion 2 :\n",
        "  print(\"\")\n",
        "else :\n",
        "  print(\"\")\n"
      ],
      "metadata": {
        "id": "SYB8GcosljTb"
      },
      "execution_count": 197,
      "outputs": []
    },
    {
      "cell_type": "code",
      "source": [
        "per=int(input(\"enter Percentage is :\"))\n",
        "if per>=90:\n",
        "    print(\"Grade first class\")\n",
        "elif per>=80:\n",
        "    print(\"Grade second class\")\n",
        "elif per>=45:\n",
        "    print(\"Grade just pass\")\n",
        "else:\n",
        "    print(\"Grade fail\")\n"
      ],
      "metadata": {
        "colab": {
          "base_uri": "https://localhost:8080/"
        },
        "id": "-7PG_qhZlX34",
        "outputId": "683a5494-ab70-4576-a137-407b508371ae"
      },
      "execution_count": 225,
      "outputs": [
        {
          "output_type": "stream",
          "name": "stdout",
          "text": [
            "enter Percentage is :95\n",
            "Grade first class\n"
          ]
        }
      ]
    },
    {
      "cell_type": "code",
      "source": [
        "prize=input(\"enter prize medal:\")\n",
        "if prize==\"gold\":\n",
        "  print(\"first prize\")\n",
        "elif prize==\"silver\":\n",
        "  print(\"second prize\")\n",
        "elif prize==\"bronze\":\n",
        "  print(\"third prize\")\n",
        "elif prize==\"certificate\":\n",
        "  print(\"samadankara prize\")\n",
        "\n",
        "  print(\"samadankara prize\")\n",
        "else:\n",
        "  print(\"better luck for next chance\")\n"
      ],
      "metadata": {
        "colab": {
          "base_uri": "https://localhost:8080/"
        },
        "id": "wpeHFaQtrDBZ",
        "outputId": "73ef3316-3051-499f-99b3-8d1b01813bda"
      },
      "execution_count": 233,
      "outputs": [
        {
          "output_type": "stream",
          "name": "stdout",
          "text": [
            "enter prize medal:certificate\n",
            "samadankara prize\n",
            "samadankara prize\n"
          ]
        }
      ]
    },
    {
      "cell_type": "code",
      "source": [
        "signal=input(\" traffic signal:\")\n",
        "if signal==\"red\":\n",
        "  print(\" stop \")\n",
        "elif signal==\"yellow\":\n",
        "  print(\" start \")\n",
        "elif signal==\"green\":\n",
        "  print(\" go \")\n",
        "else:\n",
        "  print(\"invalid signal \")\n",
        "\n",
        "\n",
        "\n"
      ],
      "metadata": {
        "colab": {
          "base_uri": "https://localhost:8080/"
        },
        "id": "wmhsKIG3v_YN",
        "outputId": "695eb023-0d74-44bf-dc80-d8ad52ea747f"
      },
      "execution_count": 241,
      "outputs": [
        {
          "output_type": "stream",
          "name": "stdout",
          "text": [
            " traffic signal:red\n",
            " stop \n"
          ]
        }
      ]
    },
    {
      "cell_type": "code",
      "source": [
        "pet=True\n",
        "aggressive=False\n",
        "if pet and not aggressive:\n",
        "  print(\"Allowed\")\n",
        "else:\n",
        "  print(\"not allowed\")\n"
      ],
      "metadata": {
        "colab": {
          "base_uri": "https://localhost:8080/"
        },
        "id": "g9r7Yz1k0_6z",
        "outputId": "a79b19f9-d67e-47af-c803-f3d5de82b7ef"
      },
      "execution_count": 251,
      "outputs": [
        {
          "output_type": "stream",
          "name": "stdout",
          "text": [
            "Allowed\n"
          ]
        }
      ]
    },
    {
      "cell_type": "code",
      "source": [
        "metal=\"24kgold\"\n",
        "\n",
        "if metal[:2]==\"24\":\n",
        "  print(\"pure gold\")\n",
        "else:\n",
        "  print(\" not pure\")"
      ],
      "metadata": {
        "colab": {
          "base_uri": "https://localhost:8080/"
        },
        "id": "S9DMRzpV1bL8",
        "outputId": "7144043c-2b9f-4469-e791-0a8127a17577"
      },
      "execution_count": 252,
      "outputs": [
        {
          "output_type": "stream",
          "name": "stdout",
          "text": [
            "pure gold\n"
          ]
        }
      ]
    }
  ]
}