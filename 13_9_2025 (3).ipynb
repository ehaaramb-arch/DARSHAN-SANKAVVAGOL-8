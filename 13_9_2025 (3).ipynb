{
  "nbformat": 4,
  "nbformat_minor": 0,
  "metadata": {
    "colab": {
      "provenance": []
    },
    "kernelspec": {
      "name": "python3",
      "display_name": "Python 3"
    },
    "language_info": {
      "name": "python"
    }
  },
  "cells": [
    {
      "cell_type": "code",
      "execution_count": 1,
      "metadata": {
        "colab": {
          "base_uri": "https://localhost:8080/"
        },
        "id": "uf-yZlhD2K55",
        "outputId": "b7eb56b4-d65c-40ba-887e-6881865742e1"
      },
      "outputs": [
        {
          "output_type": "stream",
          "name": "stdout",
          "text": [
            "good morning 18\n"
          ]
        }
      ],
      "source": [
        "a,b,c=\"good\", \"morning\", 18\n",
        "print(a,b,c)"
      ]
    },
    {
      "cell_type": "code",
      "source": [
        "\n",
        "A=B,C =\"college\",25\n",
        "print(B,C,A)"
      ],
      "metadata": {
        "colab": {
          "base_uri": "https://localhost:8080/"
        },
        "id": "SVkHrv9q5Ofr",
        "outputId": "cfb5e8c1-ee0b-4686-94a6-f5d443c8a98b"
      },
      "execution_count": 32,
      "outputs": [
        {
          "output_type": "stream",
          "name": "stdout",
          "text": [
            "college 25 ('college', 25)\n"
          ]
        }
      ]
    },
    {
      "cell_type": "code",
      "source": [
        "A=10\n",
        "B=20\n",
        "print(\"Addition of\" ,A,\"and\",B,\"is=\",A+B)"
      ],
      "metadata": {
        "colab": {
          "base_uri": "https://localhost:8080/"
        },
        "id": "uLsTq4yS9NqC",
        "outputId": "cc80d9e1-edfe-458c-d2e4-3a6158b4a5b1"
      },
      "execution_count": 33,
      "outputs": [
        {
          "output_type": "stream",
          "name": "stdout",
          "text": [
            "Addition of 10 and 20 is= 30\n"
          ]
        }
      ]
    },
    {
      "cell_type": "code",
      "source": [
        "A=10\n",
        "print(type(A))"
      ],
      "metadata": {
        "colab": {
          "base_uri": "https://localhost:8080/"
        },
        "id": "vIP1Jvj0AJ2C",
        "outputId": "29a02089-200a-4d98-b1d5-6b9921293ab3"
      },
      "execution_count": 35,
      "outputs": [
        {
          "output_type": "stream",
          "name": "stdout",
          "text": [
            "<class 'int'>\n"
          ]
        }
      ]
    },
    {
      "cell_type": "code",
      "source": [
        "a=35\n",
        "print(type(a))"
      ],
      "metadata": {
        "colab": {
          "base_uri": "https://localhost:8080/"
        },
        "id": "Lv4hzyJYCBIR",
        "outputId": "49608f45-07c7-4c0f-c964-05b34836fa2e"
      },
      "execution_count": 36,
      "outputs": [
        {
          "output_type": "stream",
          "name": "stdout",
          "text": [
            "<class 'int'>\n"
          ]
        }
      ]
    },
    {
      "cell_type": "code",
      "source": [
        "college=-100\n",
        "print(type(college))"
      ],
      "metadata": {
        "colab": {
          "base_uri": "https://localhost:8080/"
        },
        "id": "_zN4IPrSCnwx",
        "outputId": "eea60cc3-7720-497a-a688-d0bdef37ef3e"
      },
      "execution_count": 37,
      "outputs": [
        {
          "output_type": "stream",
          "name": "stdout",
          "text": [
            "<class 'int'>\n"
          ]
        }
      ]
    },
    {
      "cell_type": "code",
      "source": [
        "system=200\n",
        "print(type(system))"
      ],
      "metadata": {
        "colab": {
          "base_uri": "https://localhost:8080/"
        },
        "id": "ZcRWhLpxC_Ux",
        "outputId": "2c4ee8d1-bb31-4abf-9351-04e7b66c02f9"
      },
      "execution_count": 38,
      "outputs": [
        {
          "output_type": "stream",
          "name": "stdout",
          "text": [
            "<class 'int'>\n"
          ]
        }
      ]
    },
    {
      "cell_type": "code",
      "source": [
        "value=0\n",
        "print(type(value))"
      ],
      "metadata": {
        "colab": {
          "base_uri": "https://localhost:8080/"
        },
        "id": "p1A56OK9DJ5x",
        "outputId": "02182aa6-2f8a-4587-a46c-09b0feababb0"
      },
      "execution_count": 39,
      "outputs": [
        {
          "output_type": "stream",
          "name": "stdout",
          "text": [
            "<class 'int'>\n"
          ]
        }
      ]
    },
    {
      "cell_type": "code",
      "source": [
        "number=1000\n",
        "print(type(number))"
      ],
      "metadata": {
        "colab": {
          "base_uri": "https://localhost:8080/"
        },
        "id": "tW4IHddHDV3i",
        "outputId": "42945712-bf4b-4665-e508-c709d8ec3653"
      },
      "execution_count": 40,
      "outputs": [
        {
          "output_type": "stream",
          "name": "stdout",
          "text": [
            "<class 'int'>\n"
          ]
        }
      ]
    },
    {
      "cell_type": "code",
      "source": [
        "value=3.3\n",
        "print(type(value))"
      ],
      "metadata": {
        "colab": {
          "base_uri": "https://localhost:8080/"
        },
        "id": "3pXBit_2EN9a",
        "outputId": "cdf3f133-b2b1-451d-f083-1b94b72093ac"
      },
      "execution_count": 41,
      "outputs": [
        {
          "output_type": "stream",
          "name": "stdout",
          "text": [
            "<class 'float'>\n"
          ]
        }
      ]
    },
    {
      "cell_type": "code",
      "source": [
        "name=-100.33\n",
        "print(type(name))"
      ],
      "metadata": {
        "colab": {
          "base_uri": "https://localhost:8080/"
        },
        "id": "RcdnhpesEyIz",
        "outputId": "6381a79a-e415-419b-a14c-1146eea3dde7"
      },
      "execution_count": 43,
      "outputs": [
        {
          "output_type": "stream",
          "name": "stdout",
          "text": [
            "<class 'float'>\n"
          ]
        }
      ]
    },
    {
      "cell_type": "code",
      "source": [
        "run=20.0\n",
        "print(type(run))"
      ],
      "metadata": {
        "colab": {
          "base_uri": "https://localhost:8080/"
        },
        "id": "HQ5rwx4DFCTa",
        "outputId": "4a59eae7-359c-486e-9c2d-1c07ef7c310d"
      },
      "execution_count": 44,
      "outputs": [
        {
          "output_type": "stream",
          "name": "stdout",
          "text": [
            "<class 'float'>\n"
          ]
        }
      ]
    },
    {
      "cell_type": "code",
      "source": [
        "fun=True\n",
        "print(type(fun))"
      ],
      "metadata": {
        "colab": {
          "base_uri": "https://localhost:8080/"
        },
        "id": "fp1-h9vnFdai",
        "outputId": "0bb37b8e-06c3-4156-f95e-7a13ff870687"
      },
      "execution_count": 47,
      "outputs": [
        {
          "output_type": "stream",
          "name": "stdout",
          "text": [
            "<class 'bool'>\n"
          ]
        }
      ]
    },
    {
      "cell_type": "code",
      "source": [
        "yes=27\n",
        "print(type(yes))"
      ],
      "metadata": {
        "colab": {
          "base_uri": "https://localhost:8080/"
        },
        "id": "KGSEXc6zGe9p",
        "outputId": "56e12d8b-5987-4585-992b-e4119aeba54a"
      },
      "execution_count": 53,
      "outputs": [
        {
          "output_type": "stream",
          "name": "stdout",
          "text": [
            "<class 'int'>\n"
          ]
        }
      ]
    },
    {
      "cell_type": "code",
      "source": [
        "value=27.12\n",
        "print(type(value))"
      ],
      "metadata": {
        "colab": {
          "base_uri": "https://localhost:8080/"
        },
        "id": "vCvjXZEbH1tq",
        "outputId": "cd5ee703-7b4e-4e82-d193-f49810274c82"
      },
      "execution_count": 55,
      "outputs": [
        {
          "output_type": "stream",
          "name": "stdout",
          "text": [
            "<class 'float'>\n"
          ]
        }
      ]
    },
    {
      "cell_type": "code",
      "source": [
        "section=''''c'''\n",
        "print(type(section))"
      ],
      "metadata": {
        "colab": {
          "base_uri": "https://localhost:8080/"
        },
        "id": "2wdzcUvXHPMJ",
        "outputId": "a1d09ef5-0a8a-428a-e0ba-f6090c6d489d"
      },
      "execution_count": 56,
      "outputs": [
        {
          "output_type": "stream",
          "name": "stdout",
          "text": [
            "<class 'str'>\n"
          ]
        }
      ]
    },
    {
      "cell_type": "code",
      "source": [
        "king=18.18\n",
        "print(type(king))"
      ],
      "metadata": {
        "colab": {
          "base_uri": "https://localhost:8080/"
        },
        "id": "q9Lvv9BgJOvR",
        "outputId": "2a92af20-2cdd-4f4e-b756-da786510a252"
      },
      "execution_count": 62,
      "outputs": [
        {
          "output_type": "stream",
          "name": "stdout",
          "text": [
            "<class 'float'>\n"
          ]
        }
      ]
    },
    {
      "cell_type": "code",
      "source": [
        "string=\"pyton programming language\"\n",
        "print(string)"
      ],
      "metadata": {
        "colab": {
          "base_uri": "https://localhost:8080/"
        },
        "id": "yGYa-QbMKb3E",
        "outputId": "a04bb722-1771-4f75-e17b-f15131217039"
      },
      "execution_count": 65,
      "outputs": [
        {
          "output_type": "stream",
          "name": "stdout",
          "text": [
            "pyton programming language\n"
          ]
        }
      ]
    },
    {
      "cell_type": "code",
      "source": [
        "first=\"bkc\"\n",
        "second=\"college\"\n",
        "print(first+second)"
      ],
      "metadata": {
        "colab": {
          "base_uri": "https://localhost:8080/"
        },
        "id": "WGKnFuJ4LAfq",
        "outputId": "076aefab-5003-47b0-be95-1ab4f9987219"
      },
      "execution_count": 66,
      "outputs": [
        {
          "output_type": "stream",
          "name": "stdout",
          "text": [
            "bkccollege\n"
          ]
        }
      ]
    },
    {
      "cell_type": "code",
      "source": [
        "first=\"BK\"\n",
        "second=\"college\"\n",
        "print(((first + second)+\"\\n\")*8)"
      ],
      "metadata": {
        "colab": {
          "base_uri": "https://localhost:8080/"
        },
        "id": "RNbwvU7NLecG",
        "outputId": "268677e9-ddde-4406-86e6-8ff24b6675d9"
      },
      "execution_count": 87,
      "outputs": [
        {
          "output_type": "stream",
          "name": "stdout",
          "text": [
            "BKcollege\n",
            "BKcollege\n",
            "BKcollege\n",
            "BKcollege\n",
            "BKcollege\n",
            "BKcollege\n",
            "BKcollege\n",
            "BKcollege\n",
            "\n"
          ]
        }
      ]
    },
    {
      "cell_type": "code",
      "source": [
        "Name=\"python programming languages\"\n",
        "print(Name[5])\n",
        "print(Name[-2])\n",
        "print(Name[:20])\n",
        "print(Name[18])\n",
        "print(Name[3:14])\n",
        "print(Name[18])\n",
        "print(Name[6:])\n",
        "print(Name[:-1])\n",
        "print(Name[-22:-4])\n",
        "print(Name[::1])\n",
        "print(Name[::2])\n",
        "print(Name[::-1])\n",
        "print(Name[::-3])\n",
        "print(Name[::12])"
      ],
      "metadata": {
        "colab": {
          "base_uri": "https://localhost:8080/"
        },
        "id": "qqHITEAxNXWD",
        "outputId": "bee9621c-bad8-465d-b347-2a19ec850e43"
      },
      "execution_count": 107,
      "outputs": [
        {
          "output_type": "stream",
          "name": "stdout",
          "text": [
            "n\n",
            "e\n",
            "python programming l\n",
            " \n",
            "hon program\n",
            " \n",
            " programming languages\n",
            "python programming language\n",
            " programming langu\n",
            "python programming languages\n",
            "pto rgamn agae\n",
            "segaugnal gnimmargorp nohtyp\n",
            "san iao hp\n",
            "paa\n"
          ]
        }
      ]
    },
    {
      "cell_type": "code",
      "source": [
        "Details = '''multi line comment\n",
        "hi,Good morning\n",
        "'''\n",
        "print(Details)"
      ],
      "metadata": {
        "colab": {
          "base_uri": "https://localhost:8080/"
        },
        "id": "YuEyJACaXlLj",
        "outputId": "cbc77c28-ed25-46a1-d9ae-fa9e1a6a0c55"
      },
      "execution_count": 112,
      "outputs": [
        {
          "output_type": "stream",
          "name": "stdout",
          "text": [
            "multi line comment\n",
            "hi,Good morning\n",
            "\n"
          ]
        }
      ]
    },
    {
      "cell_type": "code",
      "source": [
        "Rollnumber=1,2,3,4,5 ------ 60\n",
        "print(Rollnumber)"
      ],
      "metadata": {
        "colab": {
          "base_uri": "https://localhost:8080/"
        },
        "id": "fdjOZ5hMYlyM",
        "outputId": "e44bec32-8158-43ff-f537-8e7d5b2431ad"
      },
      "execution_count": 131,
      "outputs": [
        {
          "output_type": "stream",
          "name": "stdout",
          "text": [
            "(1, 2, 3, 4, 65)\n"
          ]
        }
      ]
    },
    {
      "cell_type": "code",
      "source": [
        "details=[101]\n",
        "print(details)\n",
        "print(type(details))\n",
        "details.append(85.12)\n",
        "print(details)\n",
        "details.append(True)\n",
        "print(details)\n",
        "print(len(details))\n",
        "print(details.pop())\n",
        "print(details)\n",
        "details.append(\"omkar\")\n",
        "print(details)\n",
        "details.append(+99)\n",
        "print(details)\n",
        "print(len(details))\n",
        "print(details[2])--\n",
        "print(details[3])\n",
        "details.append(\"BKc college\")\n",
        "print(details)\n",
        "details[3]=99\n",
        "print(details)\n",
        "print(details[2:4])\n",
        "details.insert(2,False)\n",
        "print(details)\n",
        "details.remove(False)\n",
        "print(details)\n",
        "print(len(details))\n",
        "print(details[4])\n",
        "print(details[::-1])\n",
        "print(details.count(101))\n",
        "print(details.clear())\n",
        "print(details)\n",
        "print(type(details))\n"
      ],
      "metadata": {
        "colab": {
          "base_uri": "https://localhost:8080/"
        },
        "id": "w4sISqTk8m2v",
        "outputId": "4fa23ff8-c2bc-4fc2-f97a-73b958fb33f8"
      },
      "execution_count": 174,
      "outputs": [
        {
          "output_type": "stream",
          "name": "stdout",
          "text": [
            "[101]\n",
            "<class 'list'>\n",
            "[101, 85.12]\n",
            "[101, 85.12, True]\n",
            "3\n",
            "True\n",
            "[101, 85.12]\n",
            "[101, 85.12, 'omkar']\n",
            "[101, 85.12, 'omkar', 99]\n",
            "4\n",
            "omkar\n",
            "99\n",
            "[101, 85.12, 'omkar', 99, 'BKc college']\n",
            "[101, 85.12, 'omkar', 99, 'BKc college']\n",
            "['omkar', 99]\n",
            "[101, 85.12, False, 'omkar', 99, 'BKc college']\n",
            "[101, 85.12, 'omkar', 99, 'BKc college']\n",
            "5\n",
            "BKc college\n",
            "['BKc college', 99, 'omkar', 85.12, 101]\n",
            "1\n",
            "None\n",
            "[]\n",
            "<class 'list'>\n"
          ]
        }
      ]
    },
    {
      "cell_type": "code",
      "source": [
        "details=[102]\n",
        "print(details)\n",
        "print(type(details))\n",
        "details.append(75.12)\n",
        "details.append(True)\n",
        "print(details)\n",
        "print((details.pop()))\n",
        "print(details)\n",
        "details.append(\"abhi\")\n",
        "print(details)\n",
        "details.append(88)\n",
        "print(details)\n",
        "print(len(details))\n",
        "print(details[2])\n",
        "print(details[3])\n",
        "details.append(\"BK college\")\n",
        "print(details)"
      ],
      "metadata": {
        "colab": {
          "base_uri": "https://localhost:8080/"
        },
        "id": "ZpHpqU6AJMKw",
        "outputId": "0110edce-087d-4ed5-a8b6-e19942a4b80e"
      },
      "execution_count": 192,
      "outputs": [
        {
          "output_type": "stream",
          "name": "stdout",
          "text": [
            "[102]\n",
            "<class 'list'>\n",
            "[102, 75.12, True]\n",
            "True\n",
            "[102, 75.12]\n",
            "[102, 75.12, 'abhi']\n",
            "[102, 75.12, 'abhi', 88]\n",
            "4\n",
            "abhi\n",
            "88\n",
            "[102, 75.12, 'abhi', 88, 'BK college']\n"
          ]
        }
      ]
    }
  ]
}