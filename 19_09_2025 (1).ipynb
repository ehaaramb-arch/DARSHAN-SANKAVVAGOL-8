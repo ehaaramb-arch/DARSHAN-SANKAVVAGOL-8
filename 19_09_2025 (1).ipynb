{
  "nbformat": 4,
  "nbformat_minor": 0,
  "metadata": {
    "colab": {
      "provenance": []
    },
    "kernelspec": {
      "name": "python3",
      "display_name": "Python 3"
    },
    "language_info": {
      "name": "python"
    }
  },
  "cells": [
    {
      "cell_type": "code",
      "execution_count": 6,
      "metadata": {
        "colab": {
          "base_uri": "https://localhost:8080/"
        },
        "id": "V9fLd1g86v5-",
        "outputId": "9a1b4fc8-a210-4f9b-fe8a-ec31b72d9667"
      },
      "outputs": [
        {
          "output_type": "stream",
          "name": "stdout",
          "text": [
            "1000\n",
            "1500\n",
            "transaction succefully\n",
            "800\n",
            "current total balanace is 1800\n",
            "insufficient balanace\n",
            "1800\n",
            "transaction succefully\n",
            "1500 None\n",
            "current total balence is : 300\n",
            "insufficient balanace\n",
            "transaction succefully\n"
          ]
        }
      ],
      "source": [
        "class Bank :\n",
        "    def __init__(self,balanace):\n",
        "        self.balanace = balanace\n",
        "\n",
        "    def deposit(self,amount):\n",
        "       self.balanace +=amount\n",
        "    def withdraw (self,amount):\n",
        "       if amount <=self.balanace:\n",
        "           self.balanace-= amount\n",
        "           print(\"transaction succefully\")\n",
        "       else:\n",
        "            print(\"insufficient balanace\")\n",
        "    def re_balanace(self):\n",
        "        return self.balanace\n",
        "obj = Bank(1000)\n",
        "print(obj.balanace)\n",
        "obj.deposit(500)\n",
        "print(obj.balanace)\n",
        "obj.withdraw(700)\n",
        "print(obj.re_balanace())\n",
        "obj.deposit(1000)\n",
        "print(\"current total balanace is\",obj.re_balanace())\n",
        "obj.withdraw(2000)\n",
        "print(obj.re_balanace())\n",
        "print(1500,obj.withdraw(1500))\n",
        "print(\"current total balence is :\",obj.re_balanace())\n",
        "obj.withdraw(2000)\n",
        "obj.withdraw(100)"
      ]
    },
    {
      "cell_type": "code",
      "source": [
        "class Student:\n",
        "    def __init__(self,name,marks,place):\n",
        "        self._name = name\n",
        "        self._marks = marks\n",
        "        self.place = place\n",
        "    def set_method(self,name,marks):\n",
        "        self.name = name\n",
        "        self.marks = marks\n",
        "\n",
        "    def get_method(self):\n",
        "        return self.name\n",
        "\n",
        "    def get_method(self):\n",
        "        return self.marks\n",
        "\n",
        "\n",
        "obj=Student(\"omkar\",85,\"yellimonuli\")\n",
        "print(obj.place)\n"
      ],
      "metadata": {
        "colab": {
          "base_uri": "https://localhost:8080/"
        },
        "id": "Lg9qWyXmCg3r",
        "outputId": "b5a5ddfd-3f45-4fd6-e66a-8cd57ea71e74"
      },
      "execution_count": 41,
      "outputs": [
        {
          "output_type": "stream",
          "name": "stdout",
          "text": [
            "yellimonuli\n"
          ]
        }
      ]
    },
    {
      "cell_type": "code",
      "source": [
        "class parent:\n",
        "  def work(self):\n",
        "      print(\"myt parents are doing forming\")\n",
        "\n",
        "\n",
        "class Children(parent):\n",
        "  def study(self):\n",
        "    print(\"i am studying BCA in BK college\")\n",
        "Ch = Children()\n",
        "Ch.work()\n",
        "Ch.study()\n",
        ""
      ],
      "metadata": {
        "colab": {
          "base_uri": "https://localhost:8080/"
        },
        "id": "ecjQHZmyHZTN",
        "outputId": "685c4775-b287-48f2-9984-47b7d56545ca"
      },
      "execution_count": 48,
      "outputs": [
        {
          "output_type": "stream",
          "name": "stdout",
          "text": [
            "myt parents are doing forming\n",
            "i am studying BCA in BK college\n"
          ]
        }
      ]
    },
    {
      "cell_type": "code",
      "source": [
        "class Father:\n",
        "  def Hi(self):\n",
        "    print(\"My Father is my first hero\")\n",
        "\n",
        "class Mother:\n",
        "  def Hello(self):\n",
        "    print(\"My Mother is a House wife\")\n",
        "\n",
        "class Brother:\n",
        "  def Tata(self):\n",
        "    print(\"My Brother is a INDIAN ARMY\")\n",
        "\n",
        "class child(Father,Mother,Brother):\n",
        "  def Bye(self):\n",
        "    print(\"I am working as a Freelancer\")\n",
        "\n",
        "\n",
        "obj = child()\n",
        "obj.Hi()\n",
        "obj.Hello()\n",
        "obj.Bye()\n",
        "obj.Tata()"
      ],
      "metadata": {
        "colab": {
          "base_uri": "https://localhost:8080/"
        },
        "id": "NuYJIjb5Dxyr",
        "outputId": "6c87f781-5657-41dd-f484-9a6f41b9f5c7"
      },
      "execution_count": 70,
      "outputs": [
        {
          "output_type": "stream",
          "name": "stdout",
          "text": [
            "My Father is my first hero\n",
            "My Mother is a House wife\n",
            "I am working as a Freelancer\n",
            "My Brother is a INDIAN ARMY\n"
          ]
        }
      ]
    },
    {
      "cell_type": "code",
      "source": [
        "class Grand_parents:\n",
        "  def Formar(self):\n",
        "    print(\"😅😅😅😅😅😅\")\n",
        "\n",
        "class Parents(Grand_parents) :\n",
        "  def House(self):\n",
        "    print(\"🏠🏠🏠🏠🏠🏠\")\n",
        "\n",
        "class Child(Parents):\n",
        "  def Jolly(self):\n",
        "    print(\"😁😁😁😁😁😁\")\n",
        "\n",
        "obj=Child()\n",
        "obj.House()\n",
        "obj.Jolly()\n",
        "obj.Formar()\n",
        "\n"
      ],
      "metadata": {
        "colab": {
          "base_uri": "https://localhost:8080/"
        },
        "id": "VGyxLbE-K83k",
        "outputId": "43b61472-ec5b-49f4-b311-51afee7cbbdd"
      },
      "execution_count": 66,
      "outputs": [
        {
          "output_type": "stream",
          "name": "stdout",
          "text": [
            "🏠🏠🏠🏠🏠🏠\n",
            "😁😁😁😁😁😁\n",
            "😅😅😅😅😅😅\n"
          ]
        }
      ]
    },
    {
      "cell_type": "code",
      "source": [
        "class parents :\n",
        "  def Business(self):\n",
        "    print(\"My parents are doing Business\")\n",
        "\n",
        "class child1(parents):\n",
        "  def study(self):\n",
        "    print(\"I am studing BCA\")\n",
        "\n",
        "class child2(parents):\n",
        "    def study(self):\n",
        "     print(\"I am studing PUC\")\n",
        "\n",
        "Ch = child1()\n",
        "Ch.Business()\n",
        "Ch.study()\n",
        "\n",
        "obj = child2()\n",
        "obj.Business()\n",
        "obj.study()"
      ],
      "metadata": {
        "colab": {
          "base_uri": "https://localhost:8080/"
        },
        "id": "nOTSdcDiMHvR",
        "outputId": "65be653a-9ab3-4ab6-b716-d90bef75971a"
      },
      "execution_count": 90,
      "outputs": [
        {
          "output_type": "stream",
          "name": "stdout",
          "text": [
            "My parents are doing Business\n",
            "I am studing BCA\n",
            "My parents are doing Business\n",
            "I am studing PUC\n"
          ]
        }
      ]
    },
    {
      "cell_type": "code",
      "source": [
        "class A :\n",
        "  def Hi(self) :\n",
        "    print(\"Hiiiiiiiiii\")\n",
        "class B(A):\n",
        "  def Hello(self):\n",
        "    print(\"Hellooooo\")\n",
        "\n",
        "class C(A):\n",
        "  def Bye(self):\n",
        "    print(\"Byeeeeeee\")\n",
        "\n",
        "class D(B,C):\n",
        "  def Good(self):\n",
        "    print(\"Goooddddddddddddddd\")\n",
        "\n",
        "obj=D()\n",
        "obj.Hi()\n",
        "obj.Hello()\n",
        "obj.Good()\n",
        "obj.Bye()\n"
      ],
      "metadata": {
        "colab": {
          "base_uri": "https://localhost:8080/"
        },
        "id": "0x_K8gnrSKWj",
        "outputId": "37751a42-77b7-4f7e-b87c-2636828cf7b5"
      },
      "execution_count": 96,
      "outputs": [
        {
          "output_type": "stream",
          "name": "stdout",
          "text": [
            "Hiiiiiiiiii\n",
            "Hellooooo\n",
            "Goooddddddddddddddd\n",
            "Byeeeeeee\n"
          ]
        }
      ]
    },
    {
      "cell_type": "code",
      "source": [],
      "metadata": {
        "id": "YZZk1qhARY-q"
      },
      "execution_count": null,
      "outputs": []
    }
  ]
}