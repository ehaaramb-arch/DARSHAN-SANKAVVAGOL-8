{
  "nbformat": 4,
  "nbformat_minor": 0,
  "metadata": {
    "colab": {
      "provenance": []
    },
    "kernelspec": {
      "name": "python3",
      "display_name": "Python 3"
    },
    "language_info": {
      "name": "python"
    }
  },
  "cells": [
    {
      "cell_type": "code",
      "execution_count": null,
      "metadata": {
        "colab": {
          "base_uri": "https://localhost:8080/"
        },
        "id": "wuLSsCcMlBLs",
        "outputId": "1c461add-c557-4ea2-99e2-dfc0d7d16b35"
      },
      "outputs": [
        {
          "output_type": "stream",
          "name": "stdout",
          "text": [
            "Total vowle is : 0\n"
          ]
        }
      ],
      "source": [
        "# KLE BK BCA IN COLLEGE CHIKODI\n",
        "sentense = \"kle bk bca college chikodi\"\n",
        "count=0\n",
        "for ch in sentense:\n",
        "    if ch ==\"aeiou\":\n",
        "     count+=1\n",
        "print(\"Total vowle is :\",count)\n",
        "\n",
        "\n",
        "\n",
        "\n"
      ]
    },
    {
      "cell_type": "code",
      "source": [
        "base = 4\n",
        "hight = 5\n",
        "triangle = 0.5*base*hight\n",
        "print(\"area of triangle is;\",triangle)"
      ],
      "metadata": {
        "colab": {
          "base_uri": "https://localhost:8080/"
        },
        "id": "mbUDsuQWnTzh",
        "outputId": "59d982d9-90ef-4ceb-dfdf-dd074e010726"
      },
      "execution_count": null,
      "outputs": [
        {
          "output_type": "stream",
          "name": "stdout",
          "text": [
            "area of triangle is; 10.0\n"
          ]
        }
      ]
    },
    {
      "cell_type": "code",
      "source": [
        "radius = 5\n",
        "circle = 3.14*radius*radius\n",
        "print(\"area of circle is;\",circle)"
      ],
      "metadata": {
        "colab": {
          "base_uri": "https://localhost:8080/"
        },
        "id": "21IZtoxLsVf6",
        "outputId": "7e8eceba-6e01-44d5-bc69-51970e8d0ec1"
      },
      "execution_count": null,
      "outputs": [
        {
          "output_type": "stream",
          "name": "stdout",
          "text": [
            "area of circle is; 78.5\n"
          ]
        }
      ]
    },
    {
      "cell_type": "code",
      "source": [
        "Ex = [5,25,35, 28,45,10,15 ,55]\n",
        "largest_number = Ex[0]\n",
        "for number in Ex:\n",
        "    if number > largest_number:\n",
        "        largest_number = number\n",
        "print(\"largest number is;\",largest_number)"
      ],
      "metadata": {
        "colab": {
          "base_uri": "https://localhost:8080/"
        },
        "id": "sxAx3sHWsrfb",
        "outputId": "95c4ef90-529e-4f69-eac7-d5a11a8643aa"
      },
      "execution_count": null,
      "outputs": [
        {
          "output_type": "stream",
          "name": "stdout",
          "text": [
            "largest number is; 55\n"
          ]
        }
      ]
    },
    {
      "cell_type": "code",
      "source": [
        "number = [10,50,88,99,8,15,12]\n",
        "smallest_number = number[0]\n",
        "for num in number:\n",
        "    if num < smallest_number:\n",
        "        smallest_number = num\n",
        "print(\"smallest number is;\",smallest_number)"
      ],
      "metadata": {
        "colab": {
          "base_uri": "https://localhost:8080/"
        },
        "id": "v9pkvaXluRAX",
        "outputId": "3d49bac1-ec60-4f33-d82c-934276e46349"
      },
      "execution_count": null,
      "outputs": [
        {
          "output_type": "stream",
          "name": "stdout",
          "text": [
            "smallest number is; 8\n"
          ]
        }
      ]
    },
    {
      "cell_type": "code",
      "source": [
        "sentanse =\"Bachelor of computer science first semester section c\"\n",
        "count = 0\n",
        "for ch in sentanse:\n",
        "    if ch not in \" aeiou\":\n",
        "       count+=1\n",
        "print(\"Totle consonent is :\",count)"
      ],
      "metadata": {
        "colab": {
          "base_uri": "https://localhost:8080/"
        },
        "id": "a-nR-bkFyLaj",
        "outputId": "936809d1-c8b6-42f9-97b0-a4e75711ec30"
      },
      "execution_count": null,
      "outputs": [
        {
          "output_type": "stream",
          "name": "stdout",
          "text": [
            "Totle consonent is : 29\n"
          ]
        }
      ]
    },
    {
      "cell_type": "code",
      "source": [
        "colours = {\"yellow\",\"pink\",\"red\",\"white\",\"orange\",\"gary\",\"maroon\"}\n",
        "for color in colours:\n",
        "   if color == \"gary\":\n",
        "    break\n",
        "   print(color)"
      ],
      "metadata": {
        "id": "rKhJrlN_zLa3",
        "colab": {
          "base_uri": "https://localhost:8080/"
        },
        "outputId": "2dd99937-1815-485a-ae58-feed4a74aac0"
      },
      "execution_count": null,
      "outputs": [
        {
          "output_type": "stream",
          "name": "stdout",
          "text": [
            "pink\n",
            "red\n",
            "orange\n"
          ]
        }
      ]
    },
    {
      "cell_type": "code",
      "source": [
        "fruits = (\"apple\" ,\"mango\",\"orange\",\"papaya\",\"banana\",\"chery\",\"piunple\",\"avakardo\")\n",
        "for fruit in fruits:\n",
        "    if fruit == \"chery\":\n",
        "        continue\n",
        "    print(fruit)"
      ],
      "metadata": {
        "colab": {
          "base_uri": "https://localhost:8080/"
        },
        "id": "aYrMLc1LJ2iH",
        "outputId": "b6196411-213c-4f37-ecaf-fd9de0a76b2b"
      },
      "execution_count": null,
      "outputs": [
        {
          "output_type": "stream",
          "name": "stdout",
          "text": [
            "apple\n",
            "mango\n",
            "orange\n",
            "papaya\n",
            "banana\n",
            "piunple\n",
            "avakardo\n"
          ]
        }
      ]
    },
    {
      "cell_type": "code",
      "source": [
        "vegtable = (\"brenjal\",\"tomato\",\"pumkin\",\"onion\",\"potato\",\"sweet potato\",\"ledies feinger\")\n",
        "for vegtable in vegtable:\n",
        "    if vegtable == \"pumkin\":\n",
        "        continue\n",
        "    print(vegtable)"
      ],
      "metadata": {
        "colab": {
          "base_uri": "https://localhost:8080/"
        },
        "id": "OYcP5Jx0IlJ4",
        "outputId": "480e391a-8549-4e68-955e-f9ed1b0db234"
      },
      "execution_count": null,
      "outputs": [
        {
          "output_type": "stream",
          "name": "stdout",
          "text": [
            "brenjal\n",
            "tomato\n",
            "onion\n",
            "potato\n",
            "sweet potato\n",
            "ledies feinger\n"
          ]
        }
      ]
    },
    {
      "cell_type": "markdown",
      "source": [],
      "metadata": {
        "id": "gPt0zeNlO4_v"
      }
    },
    {
      "cell_type": "code",
      "source": [
        "mobiles = {'vivo',\"redmi\",\"oppo\",\"vivo\",\"vivo\",\"vivo\",\"oppo\",\"iqee\",\"1 plus\"}\n",
        "\n",
        "for mobile in mobiles :\n",
        "  if mobile == \"vivo\":\n",
        "     continue\n",
        "  print(mobile)"
      ],
      "metadata": {
        "colab": {
          "base_uri": "https://localhost:8080/"
        },
        "id": "RwIplYkdMlKG",
        "outputId": "6e2676d2-5c36-435e-f0f9-4d8d0f83ade3"
      },
      "execution_count": null,
      "outputs": [
        {
          "output_type": "stream",
          "name": "stdout",
          "text": [
            "redmi\n",
            "oppo\n",
            "iqee\n",
            "1 plus\n"
          ]
        }
      ]
    },
    {
      "cell_type": "code",
      "source": [
        "movies = {\"pavankind\",\"chhava\",\"rrr\",\"boder\",\"india vs pak\",\"amaran\",\"sinik\",\"surando\",\"bharat mera mahan\"}\n",
        "for movie in movies:\n",
        "   if movie ==\"rrr\":\n",
        "     pass\n",
        "   print(movie)"
      ],
      "metadata": {
        "colab": {
          "base_uri": "https://localhost:8080/"
        },
        "id": "95TFcSq4PWL-",
        "outputId": "3e5926dd-882e-4e04-93f0-0b5ac9f7e535"
      },
      "execution_count": null,
      "outputs": [
        {
          "output_type": "stream",
          "name": "stdout",
          "text": [
            "india vs pak\n",
            "pavankind\n",
            "chhava\n",
            "amaran\n",
            "sinik\n",
            "boder\n",
            "bharat mera mahan\n",
            "surando\n",
            "rrr\n"
          ]
        }
      ]
    },
    {
      "cell_type": "code",
      "source": [
        "thinge = {\"mobile\",\"laptop\",\"tab\",\"book\",\"paper\",\"moniter\"}\n",
        "for thinge in thinge:\n",
        "    if thinge == \"laptop\":\n",
        "       break\n",
        "    print(thinge)\n"
      ],
      "metadata": {
        "colab": {
          "base_uri": "https://localhost:8080/"
        },
        "id": "YVzzZrbmRF9Z",
        "outputId": "95f40173-2a25-4c83-c589-6e1b15631b11"
      },
      "execution_count": null,
      "outputs": [
        {
          "output_type": "stream",
          "name": "stdout",
          "text": [
            "moniter\n",
            "mobile\n",
            "book\n",
            "paper\n"
          ]
        }
      ]
    },
    {
      "cell_type": "code",
      "source": [
        "for i in range(10):\n",
        "  for j in range(10):\n",
        "    print('*',end=\"\")\n",
        "  print()"
      ],
      "metadata": {
        "colab": {
          "base_uri": "https://localhost:8080/"
        },
        "id": "nDNdOZjQSjUn",
        "outputId": "d60fc3f6-ad9f-4354-c7bc-056a99ed6eaf"
      },
      "execution_count": null,
      "outputs": [
        {
          "output_type": "stream",
          "name": "stdout",
          "text": [
            "**********\n",
            "**********\n",
            "**********\n",
            "**********\n",
            "**********\n",
            "**********\n",
            "**********\n",
            "**********\n",
            "**********\n",
            "**********\n"
          ]
        }
      ]
    },
    {
      "cell_type": "code",
      "source": [
        "for i in range(10):\n",
        "  for j in range(10):\n",
        "    print(j,end=\"  \")\n",
        "  print()"
      ],
      "metadata": {
        "colab": {
          "base_uri": "https://localhost:8080/"
        },
        "id": "FBq-z3jnUlyX",
        "outputId": "08c873da-2afb-433f-9156-338f481ad6dc"
      },
      "execution_count": null,
      "outputs": [
        {
          "output_type": "stream",
          "name": "stdout",
          "text": [
            "0  1  2  3  4  5  6  7  8  9  \n",
            "0  1  2  3  4  5  6  7  8  9  \n",
            "0  1  2  3  4  5  6  7  8  9  \n",
            "0  1  2  3  4  5  6  7  8  9  \n",
            "0  1  2  3  4  5  6  7  8  9  \n",
            "0  1  2  3  4  5  6  7  8  9  \n",
            "0  1  2  3  4  5  6  7  8  9  \n",
            "0  1  2  3  4  5  6  7  8  9  \n",
            "0  1  2  3  4  5  6  7  8  9  \n",
            "0  1  2  3  4  5  6  7  8  9  \n"
          ]
        }
      ]
    },
    {
      "cell_type": "code",
      "source": [
        "for i in range(10):\n",
        "  for j in range(10):\n",
        "    print(i,end=\"  \")\n",
        "  print()"
      ],
      "metadata": {
        "colab": {
          "base_uri": "https://localhost:8080/"
        },
        "id": "13lqS9KcT5TY",
        "outputId": "f7755406-a600-4103-aaeb-0528049c2018"
      },
      "execution_count": null,
      "outputs": [
        {
          "output_type": "stream",
          "name": "stdout",
          "text": [
            "0  0  0  0  0  0  0  0  0  0  \n",
            "1  1  1  1  1  1  1  1  1  1  \n",
            "2  2  2  2  2  2  2  2  2  2  \n",
            "3  3  3  3  3  3  3  3  3  3  \n",
            "4  4  4  4  4  4  4  4  4  4  \n",
            "5  5  5  5  5  5  5  5  5  5  \n",
            "6  6  6  6  6  6  6  6  6  6  \n",
            "7  7  7  7  7  7  7  7  7  7  \n",
            "8  8  8  8  8  8  8  8  8  8  \n",
            "9  9  9  9  9  9  9  9  9  9  \n"
          ]
        }
      ]
    },
    {
      "cell_type": "code",
      "source": [
        "for i in range(1,10):\n",
        "  for j in range(i):\n",
        "    print(i,end=\"  \")\n",
        "  print()"
      ],
      "metadata": {
        "colab": {
          "base_uri": "https://localhost:8080/"
        },
        "id": "29VqIFw4XNiI",
        "outputId": "045cc272-7057-47fb-f2a5-b6238aa4ff1a"
      },
      "execution_count": null,
      "outputs": [
        {
          "output_type": "stream",
          "name": "stdout",
          "text": [
            "1  \n",
            "2  2  \n",
            "3  3  3  \n",
            "4  4  4  4  \n",
            "5  5  5  5  5  \n",
            "6  6  6  6  6  6  \n",
            "7  7  7  7  7  7  7  \n",
            "8  8  8  8  8  8  8  8  \n",
            "9  9  9  9  9  9  9  9  9  \n"
          ]
        }
      ]
    },
    {
      "cell_type": "code",
      "source": [
        "for i in range(5):\n",
        "  for j in range(0,i+1):\n",
        "    print(\" \",end=\"  \")\n",
        "  for j in range(8):\n",
        "    print(\"*\",end=\"  \")\n",
        "  print()\n"
      ],
      "metadata": {
        "colab": {
          "base_uri": "https://localhost:8080/"
        },
        "id": "rNDjbZ3AXd_A",
        "outputId": "64e5365c-eb67-4bfa-f7a7-dc581f264c61"
      },
      "execution_count": 256,
      "outputs": [
        {
          "output_type": "stream",
          "name": "stdout",
          "text": [
            "   *  *  *  *  *  *  *  *  \n",
            "      *  *  *  *  *  *  *  *  \n",
            "         *  *  *  *  *  *  *  *  \n",
            "            *  *  *  *  *  *  *  *  \n",
            "               *  *  *  *  *  *  *  *  \n"
          ]
        }
      ]
    },
    {
      "cell_type": "code",
      "source": [
        " for i in range(5):\n",
        "  for j in range(0,j+1):\n",
        "    print(\" \",end=\"  \")\n",
        "  for i in range(8):\n",
        "    print(\"*\",end=\"  \")\n",
        "  print()"
      ],
      "metadata": {
        "colab": {
          "base_uri": "https://localhost:8080/"
        },
        "id": "CPzhgbcin6OU",
        "outputId": "f1441fb7-7f74-445c-82c3-8386568ce5b2"
      },
      "execution_count": 257,
      "outputs": [
        {
          "output_type": "stream",
          "name": "stdout",
          "text": [
            "                        *  *  *  *  *  *  *  *  \n",
            "                        *  *  *  *  *  *  *  *  \n",
            "                        *  *  *  *  *  *  *  *  \n",
            "                        *  *  *  *  *  *  *  *  \n",
            "                        *  *  *  *  *  *  *  *  \n"
          ]
        }
      ]
    },
    {
      "cell_type": "markdown",
      "source": [],
      "metadata": {
        "id": "AqHedYGoysyY"
      }
    },
    {
      "cell_type": "code",
      "source": [
        " for j in range(5):\n",
        "  for i in range(1,i+0):\n",
        "    print(\" \",end=\"  \")\n",
        "  for j in range(8):\n",
        "    print(\"*\",end=\"  \")\n",
        "  print()\n",
        ""
      ],
      "metadata": {
        "colab": {
          "base_uri": "https://localhost:8080/"
        },
        "id": "3-6D3-rhq9WN",
        "outputId": "b80a91de-81e5-47fc-8eda-9c10af208a4b"
      },
      "execution_count": 296,
      "outputs": [
        {
          "output_type": "stream",
          "name": "stdout",
          "text": [
            "         *  *  *  *  *  *  *  *  \n",
            "      *  *  *  *  *  *  *  *  \n",
            "   *  *  *  *  *  *  *  *  \n",
            "*  *  *  *  *  *  *  *  \n",
            "*  *  *  *  *  *  *  *  \n"
          ]
        }
      ]
    },
    {
      "cell_type": "code",
      "source": [
        "# @title\n",
        " for i in range(5):\n",
        "  for j in range(i+1,5):\n",
        "    print(\" \",end=\"  \")\n",
        "  for i in range(8):\n",
        "    print(\"*\",end=\"  \")\n",
        "  print()"
      ],
      "metadata": {
        "colab": {
          "base_uri": "https://localhost:8080/"
        },
        "cellView": "form",
        "id": "qT4w-tc4snTO",
        "outputId": "34fa07a7-d73b-4444-ba68-691a53fdb97c"
      },
      "execution_count": 266,
      "outputs": [
        {
          "output_type": "stream",
          "name": "stdout",
          "text": [
            "            *  *  *  *  *  *  *  *  \n",
            "         *  *  *  *  *  *  *  *  \n",
            "      *  *  *  *  *  *  *  *  \n",
            "   *  *  *  *  *  *  *  *  \n",
            "*  *  *  *  *  *  *  *  \n"
          ]
        }
      ]
    },
    {
      "cell_type": "code",
      "source": [
        "row = 5\n",
        "col = 5\n",
        "for i in range(0,row):\n",
        "  for i in range(0,col):\n",
        "    if i==0 or j==0 or i==row-1 or j==col-1:\n",
        "        print(\"*\",end= \" \")\n",
        "    else:\n",
        "        print(\" \",end= \" \")\n",
        "  print()\n",
        ""
      ],
      "metadata": {
        "colab": {
          "base_uri": "https://localhost:8080/"
        },
        "id": "AkcUpAsKtOp0",
        "outputId": "1c4ccc1f-db0c-4f20-93c7-2547ac8fb1cb"
      },
      "execution_count": 316,
      "outputs": [
        {
          "output_type": "stream",
          "name": "stdout",
          "text": [
            "*       * \n",
            "*       * \n",
            "*       * \n",
            "*       * \n",
            "*       * \n"
          ]
        }
      ]
    },
    {
      "cell_type": "code",
      "source": [
        "num = 7\n",
        "for i in range(0,num):\n",
        "  for j in range(0,num-i-1):\n",
        "    print(\" \",end=\" \")\n",
        "  for j in range(0,i*2+1):\n",
        "     print(chr(97 +j),end=\" \")\n",
        "  print()"
      ],
      "metadata": {
        "colab": {
          "base_uri": "https://localhost:8080/"
        },
        "id": "A41ogsQvy0pG",
        "outputId": "8253a6f7-27af-4d73-ef5e-a8189dedad3f"
      },
      "execution_count": 305,
      "outputs": [
        {
          "output_type": "stream",
          "name": "stdout",
          "text": [
            "            a \n",
            "          a b c \n",
            "        a b c d e \n",
            "      a b c d e f g \n",
            "    a b c d e f g h i \n",
            "  a b c d e f g h i j k \n",
            "a b c d e f g h i j k l m \n"
          ]
        }
      ]
    },
    {
      "cell_type": "code",
      "source": [
        "num = 7\n",
        "for i in range(0,num):\n",
        "  for j in range(0,num-i-1):\n",
        "    print(\" \",end=\" \")\n",
        "  for j in range(0,i*2+1):\n",
        "     print(\"*\",end=\" \")\n",
        "  print()\n",
        "for i in range(0,num):\n",
        "  for j in range(1,1+i):\n",
        "    print(\" \",end=\" \")\n",
        "  for j in range(0,(num-i)*2-1):\n",
        "     print(\"*\",end=\" \")\n",
        "  print()"
      ],
      "metadata": {
        "colab": {
          "base_uri": "https://localhost:8080/"
        },
        "id": "LAfY4w8315lf",
        "outputId": "0b9999f4-a792-4a21-8d79-ca617951a4ca"
      },
      "execution_count": 328,
      "outputs": [
        {
          "output_type": "stream",
          "name": "stdout",
          "text": [
            "            * \n",
            "          * * * \n",
            "        * * * * * \n",
            "      * * * * * * * \n",
            "    * * * * * * * * * \n",
            "  * * * * * * * * * * * \n",
            "* * * * * * * * * * * * * \n",
            "* * * * * * * * * * * * * \n",
            "  * * * * * * * * * * * \n",
            "    * * * * * * * * * \n",
            "      * * * * * * * \n",
            "        * * * * * \n",
            "          * * * \n",
            "            * \n"
          ]
        }
      ]
    },
    {
      "cell_type": "code",
      "source": [
        "num = 7\n",
        "for i in range(0,num):\n",
        "  for j in range(0,num-i-1):\n",
        "    print(\" \",end=\" \")\n",
        "  for j in range(0,i*2+1):\n",
        "     print(\"$\",end=\" \")\n",
        "  print()\n",
        "for i in range(0,num):\n",
        "  for j in range(1,1+i):\n",
        "    print(\" \",end=\" \")\n",
        "  for j in range(0,(num-i)*2-1):\n",
        "     print(\"$\",end=\" \")\n",
        "  print()"
      ],
      "metadata": {
        "colab": {
          "base_uri": "https://localhost:8080/"
        },
        "id": "Bib3qAqS3v1f",
        "outputId": "8e3d9201-c3b7-45a9-8ab2-adf38d515718"
      },
      "execution_count": 343,
      "outputs": [
        {
          "output_type": "stream",
          "name": "stdout",
          "text": [
            "            $ \n",
            "          $ $ $ \n",
            "        $ $ $ $ $ \n",
            "      $ $ $ $ $ $ $ \n",
            "    $ $ $ $ $ $ $ $ $ \n",
            "  $ $ $ $ $ $ $ $ $ $ $ \n",
            "$ $ $ $ $ $ $ $ $ $ $ $ $ \n",
            "$ $ $ $ $ $ $ $ $ $ $ $ $ \n",
            "  $ $ $ $ $ $ $ $ $ $ $ \n",
            "    $ $ $ $ $ $ $ $ $ \n",
            "      $ $ $ $ $ $ $ \n",
            "        $ $ $ $ $ \n",
            "          $ $ $ \n",
            "            $ \n"
          ]
        }
      ]
    },
    {
      "cell_type": "code",
      "source": [
        "def Exmple():\n",
        "    print(\"Good Afternoon\")\n",
        "\n",
        "Exmple()\n"
      ],
      "metadata": {
        "colab": {
          "base_uri": "https://localhost:8080/"
        },
        "id": "Tc8uixXz9QVf",
        "outputId": "bb32325e-16c4-4c3a-de62-abad707f79b3"
      },
      "execution_count": 347,
      "outputs": [
        {
          "output_type": "stream",
          "name": "stdout",
          "text": [
            "Good Afternoon\n"
          ]
        }
      ]
    },
    {
      "cell_type": "code",
      "source": [
        "#1)Example\n",
        "def fun(num):\n",
        "    return num*num\n",
        "print(fun(4))"
      ],
      "metadata": {
        "colab": {
          "base_uri": "https://localhost:8080/"
        },
        "id": "xVo-7JgC9vMq",
        "outputId": "aa94adbd-c13a-464e-ba4a-bc68a2ae72ce"
      },
      "execution_count": 378,
      "outputs": [
        {
          "output_type": "stream",
          "name": "stdout",
          "text": [
            "16\n"
          ]
        }
      ]
    },
    {
      "cell_type": "code",
      "source": [
        "def add(a,b):\n",
        "  print(f'addition of two number is {a+b}')\n",
        "add(5,10)"
      ],
      "metadata": {
        "colab": {
          "base_uri": "https://localhost:8080/"
        },
        "id": "W55L_Pw5_bfQ",
        "outputId": "893c39dc-175f-41bb-982d-2f445e7e5f92"
      },
      "execution_count": 380,
      "outputs": [
        {
          "output_type": "stream",
          "name": "stdout",
          "text": [
            "addition of two number is 15\n"
          ]
        }
      ]
    },
    {
      "cell_type": "code",
      "source": [
        "def add(a,b):\n",
        "  return a+b\n",
        "print(add(5,3))"
      ],
      "metadata": {
        "colab": {
          "base_uri": "https://localhost:8080/"
        },
        "id": "fYfqMLk2ARQx",
        "outputId": "7c30ebe5-9113-47e5-b05c-b7962403e8e5"
      },
      "execution_count": 392,
      "outputs": [
        {
          "output_type": "stream",
          "name": "stdout",
          "text": [
            "8\n"
          ]
        }
      ]
    },
    {
      "cell_type": "code",
      "source": [
        "def Example(roll_number,name,section, department,college):\n",
        "    print(f\"My name is {name},i am studying {department}, in {college} college. My roll_number is {roll_number}and section is {section}\")\n",
        "Example(101,\"omkar\",'A',\"BCA\",\"KLE\")"
      ],
      "metadata": {
        "colab": {
          "base_uri": "https://localhost:8080/"
        },
        "id": "f20oKLufDrTR",
        "outputId": "0785fbf2-c17c-4db4-e776-b75de06e375c"
      },
      "execution_count": 420,
      "outputs": [
        {
          "output_type": "stream",
          "name": "stdout",
          "text": [
            "My name is omkar,i am studying BCA, in KLE college. My roll_number is 101and section is A\n"
          ]
        }
      ]
    },
    {
      "cell_type": "code",
      "source": [
        "def fun(name,game,time):\n",
        "    print(f\"i am {name};i am playing{game} at {time} time\")\n",
        "fun(time = \"Evening\", name = \"omkar\", game =  \"cricket\")"
      ],
      "metadata": {
        "colab": {
          "base_uri": "https://localhost:8080/"
        },
        "id": "8gZNwxBZISxJ",
        "outputId": "a8415708-4087-47db-87c1-5d5927b9483c"
      },
      "execution_count": 424,
      "outputs": [
        {
          "output_type": "stream",
          "name": "stdout",
          "text": [
            "i am omkar;i am playingcricket at Evening time\n"
          ]
        }
      ]
    },
    {
      "cell_type": "code",
      "source": [
        "def laptop(name = \"lenovo\"):\n",
        "  print(\"My laptop name is :\",name)\n",
        "laptop(\"dell\")\n",
        "laptop(\"hp\")\n",
        "laptop()\n",
        "laptop(\"asus\")"
      ],
      "metadata": {
        "colab": {
          "base_uri": "https://localhost:8080/"
        },
        "id": "LBvOLqg3J_si",
        "outputId": "f6ee710b-285c-4610-8a73-2af09a96496b"
      },
      "execution_count": 425,
      "outputs": [
        {
          "output_type": "stream",
          "name": "stdout",
          "text": [
            "My laptop name is : dell\n",
            "My laptop name is : hp\n",
            "My laptop name is : lenovo\n",
            "My laptop name is : asus\n"
          ]
        }
      ]
    },
    {
      "cell_type": "markdown",
      "source": [],
      "metadata": {
        "id": "QQsei0qG_bGB"
      }
    }
  ]
}